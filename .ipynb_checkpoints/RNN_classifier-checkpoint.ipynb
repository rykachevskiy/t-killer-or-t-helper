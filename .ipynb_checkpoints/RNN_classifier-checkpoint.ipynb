{
 "cells": [
  {
   "cell_type": "code",
   "execution_count": 1,
   "metadata": {},
   "outputs": [
    {
     "name": "stderr",
     "output_type": "stream",
     "text": [
      "/home/anton/anaconda3/lib/python3.6/site-packages/h5py/__init__.py:34: FutureWarning: Conversion of the second argument of issubdtype from `float` to `np.floating` is deprecated. In future, it will be treated as `np.float64 == np.dtype(float).type`.\n",
      "  from ._conv import register_converters as _register_converters\n",
      "Using TensorFlow backend.\n"
     ]
    }
   ],
   "source": [
    "import tensorflow as tf\n",
    "\n",
    "import keras\n",
    "\n",
    "import numpy as np\n",
    "import matplotlib.pyplot as plt\n",
    "\n",
    "import pandas as pd\n",
    "%matplotlib inline"
   ]
  },
  {
   "cell_type": "code",
   "execution_count": 2,
   "metadata": {
    "collapsed": true
   },
   "outputs": [],
   "source": [
    "from keras.layers import Input, LSTM, RepeatVector, Dense, Embedding, Activation, Masking, SimpleRNN\n",
    "from keras.layers.wrappers import TimeDistributed\n",
    "from keras.models import Model, Sequential\n",
    "from keras import backend as K"
   ]
  },
  {
   "cell_type": "code",
   "execution_count": 4,
   "metadata": {
    "collapsed": true
   },
   "outputs": [],
   "source": [
    "import pickle"
   ]
  },
  {
   "cell_type": "code",
   "execution_count": null,
   "metadata": {
    "collapsed": true
   },
   "outputs": [],
   "source": []
  },
  {
   "cell_type": "markdown",
   "metadata": {},
   "source": [
    "### Constants&data"
   ]
  },
  {
   "cell_type": "code",
   "execution_count": null,
   "metadata": {
    "collapsed": true
   },
   "outputs": [],
   "source": [
    "VOC_SIZE = 4"
   ]
  },
  {
   "cell_type": "code",
   "execution_count": 3,
   "metadata": {
    "collapsed": true
   },
   "outputs": [],
   "source": [
    "X = np.load(\"../data/LY/RNN_data_filtred.npy\")\n",
    "Y = np.load(\"../data/LY/RNN_data_filtred_y.npy\")\n",
    "voc = \n",
    "#mask = np.zeros_like(X)"
   ]
  },
  {
   "cell_type": "code",
   "execution_count": 6,
   "metadata": {
    "collapsed": true,
    "scrolled": false
   },
   "outputs": [],
   "source": [
    "for i in range(X.shape[0]):\n",
    "    for j in range(X.shape[1]):\n",
    "        if X[i,j] != 0:\n",
    "            Y[i,j,X[i,j]] = 1\n",
    "            mask[i, j] = 1"
   ]
  },
  {
   "cell_type": "code",
   "execution_count": 7,
   "metadata": {
    "collapsed": true
   },
   "outputs": [],
   "source": [
    "out_dim = 10"
   ]
  },
  {
   "cell_type": "markdown",
   "metadata": {},
   "source": [
    "#### Net"
   ]
  },
  {
   "cell_type": "code",
   "execution_count": 8,
   "metadata": {
    "collapsed": true
   },
   "outputs": [],
   "source": [
    "encoder_input = Input(shape=(None,))\n",
    "\n",
    "#encoder_mask_layer = Masking(mask_value=3, input_shape=(t_s,))\n",
    "#encoder_mask = encoder_mask_layer(encoder_input)\n",
    "\n",
    "encoder_embedding_layer = Embedding(VOC_SIZE + 1, out_dim, mask_zero=True)\n",
    "encoder_embedding = encoder_embedding_layer(encoder_input)\n",
    "\n",
    "encoder_recurent_layer_1 = LSTM(10,return_state=True, return_sequences=True )\n",
    "encoder_recurent_1, encoder_h, encoder_c = encoder_recurent_layer_1(encoder_embedding)\n",
    "\n",
    "encoder_out_layer = TimeDistributed(Dense(VOC_SIZE, activation='softmax'))\n",
    "encoder_out = encoder_out_layer (encoder_recurent_1)"
   ]
  },
  {
   "cell_type": "code",
   "execution_count": 9,
   "metadata": {
    "collapsed": true
   },
   "outputs": [],
   "source": [
    "encoder = Model(encoder_input, [encoder_h, encoder_c])"
   ]
  },
  {
   "cell_type": "code",
   "execution_count": 10,
   "metadata": {
    "collapsed": true
   },
   "outputs": [],
   "source": [
    "decoder_input = Input(shape=(None,))\n",
    "\n",
    "#decoder_mask_layer = Masking(mask_value=3)\n",
    "#decoder_mask = decoder_mask_layer(decoder_input)\n",
    "\n",
    "decoder_embedding = encoder_embedding_layer(decoder_input)\n",
    "\n",
    "decoder_recurent_layer_1 = LSTM(10,return_sequences=True,return_state=True)\n",
    "decoder_recurent_1, _, _  = decoder_recurent_layer_1(decoder_embedding, initial_state = [encoder_h, encoder_c])\n",
    "\n",
    "decoder_out_layer = TimeDistributed(Dense(VOC_SIZE, activation='softmax'))\n",
    "decoder_out = decoder_out_layer(decoder_recurent_1)"
   ]
  },
  {
   "cell_type": "code",
   "execution_count": 11,
   "metadata": {
    "collapsed": true
   },
   "outputs": [],
   "source": [
    "total_model = Model([encoder_input, decoder_input], decoder_out)"
   ]
  },
  {
   "cell_type": "markdown",
   "metadata": {},
   "source": [
    "##### Learning"
   ]
  },
  {
   "cell_type": "code",
   "execution_count": 12,
   "metadata": {
    "collapsed": true
   },
   "outputs": [],
   "source": [
    "total_model.compile(optimizer='adam', loss='categorical_crossentropy')"
   ]
  },
  {
   "cell_type": "code",
   "execution_count": 13,
   "metadata": {},
   "outputs": [
    {
     "name": "stdout",
     "output_type": "stream",
     "text": [
      "Epoch 1/20\n",
      "2000/2000 [==============================] - 6s 3ms/step - loss: 1.0443\n",
      "Epoch 2/20\n",
      "2000/2000 [==============================] - 6s 3ms/step - loss: 0.6521\n",
      "Epoch 3/20\n",
      "2000/2000 [==============================] - 6s 3ms/step - loss: 0.3895\n",
      "Epoch 4/20\n",
      "2000/2000 [==============================] - 6s 3ms/step - loss: 0.1746\n",
      "Epoch 5/20\n",
      "2000/2000 [==============================] - 5s 3ms/step - loss: 0.0808\n",
      "Epoch 6/20\n",
      "2000/2000 [==============================] - 6s 3ms/step - loss: 0.0493\n",
      "Epoch 7/20\n",
      "2000/2000 [==============================] - 6s 3ms/step - loss: 0.0354\n",
      "Epoch 8/20\n",
      "2000/2000 [==============================] - 5s 3ms/step - loss: 0.0273\n",
      "Epoch 9/20\n",
      "2000/2000 [==============================] - 6s 3ms/step - loss: 0.0219\n",
      "Epoch 10/20\n",
      "2000/2000 [==============================] - 5s 3ms/step - loss: 0.0180\n",
      "Epoch 11/20\n",
      "2000/2000 [==============================] - 6s 3ms/step - loss: 0.0151\n",
      "Epoch 12/20\n",
      "2000/2000 [==============================] - 6s 3ms/step - loss: 0.0129\n",
      "Epoch 13/20\n",
      "2000/2000 [==============================] - 6s 3ms/step - loss: 0.0112\n",
      "Epoch 14/20\n",
      "2000/2000 [==============================] - 6s 3ms/step - loss: 0.0098\n",
      "Epoch 15/20\n",
      "2000/2000 [==============================] - 6s 3ms/step - loss: 0.0086\n",
      "Epoch 16/20\n",
      "2000/2000 [==============================] - 5s 3ms/step - loss: 0.0076\n",
      "Epoch 17/20\n",
      "2000/2000 [==============================] - 6s 3ms/step - loss: 0.0068\n",
      "Epoch 18/20\n",
      "2000/2000 [==============================] - 5s 3ms/step - loss: 0.0061\n",
      "Epoch 19/20\n",
      "2000/2000 [==============================] - 6s 3ms/step - loss: 0.0055\n",
      "Epoch 20/20\n",
      "2000/2000 [==============================] - 6s 3ms/step - loss: 0.0050\n"
     ]
    }
   ],
   "source": [
    "learning_progress = total_model.fit([X[:,:], X[:,:-1]], Y[:,1:,1:],\n",
    "                                    batch_size=20,\n",
    "                                    epochs=20,\n",
    "                                    validation_split=0)"
   ]
  },
  {
   "cell_type": "markdown",
   "metadata": {},
   "source": [
    "##### Decoder forward model"
   ]
  },
  {
   "cell_type": "code",
   "execution_count": 14,
   "metadata": {
    "collapsed": true
   },
   "outputs": [],
   "source": [
    "initial_decoder_h = Input(shape=(10,))\n",
    "initial_decoder_c = Input(shape=(10,))\n",
    "\n",
    "decoder_recurent_out, decoder_h, decoder_c = decoder_recurent_layer_1(decoder_embedding,\n",
    "                                                                      initial_state=[initial_decoder_h, initial_decoder_c])\n",
    "#decoder_true_out  = decoder_out_layer(decoder_recurent_out)"
   ]
  },
  {
   "cell_type": "code",
   "execution_count": 16,
   "metadata": {
    "collapsed": true
   },
   "outputs": [],
   "source": [
    "decoder_true_out  = decoder_out_layer(decoder_recurent_out)"
   ]
  },
  {
   "cell_type": "code",
   "execution_count": 17,
   "metadata": {
    "collapsed": true
   },
   "outputs": [],
   "source": [
    "total_decoder = Model([decoder_input, initial_decoder_h, initial_decoder_c], decoder_true_out)"
   ]
  },
  {
   "cell_type": "markdown",
   "metadata": {},
   "source": [
    "##### Give it a try"
   ]
  },
  {
   "cell_type": "code",
   "execution_count": 198,
   "metadata": {
    "collapsed": true
   },
   "outputs": [
    {
     "data": {
      "text/plain": [
       "array([[[  9.99019504e-01,   5.07082914e-05,   8.30945268e-04,\n",
       "           9.88151005e-05],\n",
       "        [  9.94232953e-01,   2.62882677e-04,   4.99663781e-03,\n",
       "           5.07525110e-04],\n",
       "        [  9.97377038e-01,   1.23214588e-04,   2.25471915e-03,\n",
       "           2.44995201e-04],\n",
       "        [  9.96437907e-01,   1.65393241e-04,   3.07159289e-03,\n",
       "           3.25131667e-04],\n",
       "        [  9.96836901e-01,   1.47527215e-04,   2.72419187e-03,\n",
       "           2.91304663e-04],\n",
       "        [  9.96686161e-01,   1.54285706e-04,   2.85542547e-03,\n",
       "           3.04123299e-04],\n",
       "        [  9.96726274e-01,   1.52487526e-04,   2.82050855e-03,\n",
       "           3.00717540e-04],\n",
       "        [  9.96496022e-01,   1.62792436e-04,   3.02101509e-03,\n",
       "           3.20226885e-04],\n",
       "        [  9.94045079e-01,   2.71088793e-04,   5.16112382e-03,\n",
       "           5.22787566e-04],\n",
       "        [  9.16231394e-01,   3.42742237e-03,   7.43684098e-02,\n",
       "           5.97280683e-03],\n",
       "        [  1.39884531e-01,   2.96247285e-02,   7.86329627e-01,\n",
       "           4.41610739e-02],\n",
       "        [  4.08951230e-02,   4.79848199e-02,   8.65795970e-01,\n",
       "           4.53240722e-02],\n",
       "        [  4.08951230e-02,   4.79848199e-02,   8.65795970e-01,\n",
       "           4.53240722e-02],\n",
       "        [  4.08951230e-02,   4.79848199e-02,   8.65795970e-01,\n",
       "           4.53240722e-02],\n",
       "        [  4.08951230e-02,   4.79848199e-02,   8.65795970e-01,\n",
       "           4.53240722e-02],\n",
       "        [  4.08951230e-02,   4.79848199e-02,   8.65795970e-01,\n",
       "           4.53240722e-02],\n",
       "        [  4.08951230e-02,   4.79848199e-02,   8.65795970e-01,\n",
       "           4.53240722e-02],\n",
       "        [  4.08951230e-02,   4.79848199e-02,   8.65795970e-01,\n",
       "           4.53240722e-02],\n",
       "        [  4.08951230e-02,   4.79848199e-02,   8.65795970e-01,\n",
       "           4.53240722e-02],\n",
       "        [  4.08951230e-02,   4.79848199e-02,   8.65795970e-01,\n",
       "           4.53240722e-02],\n",
       "        [  4.08951230e-02,   4.79848199e-02,   8.65795970e-01,\n",
       "           4.53240722e-02],\n",
       "        [  4.08951230e-02,   4.79848199e-02,   8.65795970e-01,\n",
       "           4.53240722e-02],\n",
       "        [  4.08951230e-02,   4.79848199e-02,   8.65795970e-01,\n",
       "           4.53240722e-02],\n",
       "        [  4.08951230e-02,   4.79848199e-02,   8.65795970e-01,\n",
       "           4.53240722e-02],\n",
       "        [  4.08951230e-02,   4.79848199e-02,   8.65795970e-01,\n",
       "           4.53240722e-02],\n",
       "        [  4.08951230e-02,   4.79848199e-02,   8.65795970e-01,\n",
       "           4.53240722e-02],\n",
       "        [  4.08951230e-02,   4.79848199e-02,   8.65795970e-01,\n",
       "           4.53240722e-02],\n",
       "        [  4.08951230e-02,   4.79848199e-02,   8.65795970e-01,\n",
       "           4.53240722e-02],\n",
       "        [  4.08951230e-02,   4.79848199e-02,   8.65795970e-01,\n",
       "           4.53240722e-02],\n",
       "        [  4.08951230e-02,   4.79848199e-02,   8.65795970e-01,\n",
       "           4.53240722e-02],\n",
       "        [  4.08951230e-02,   4.79848199e-02,   8.65795970e-01,\n",
       "           4.53240722e-02],\n",
       "        [  4.08951230e-02,   4.79848199e-02,   8.65795970e-01,\n",
       "           4.53240722e-02],\n",
       "        [  4.08951230e-02,   4.79848199e-02,   8.65795970e-01,\n",
       "           4.53240722e-02],\n",
       "        [  4.08951230e-02,   4.79848199e-02,   8.65795970e-01,\n",
       "           4.53240722e-02],\n",
       "        [  4.08951230e-02,   4.79848199e-02,   8.65795970e-01,\n",
       "           4.53240722e-02]]], dtype=float32)"
      ]
     },
     "execution_count": 198,
     "metadata": {},
     "output_type": "execute_result"
    }
   ],
   "source": [
    "total_model.predict([X[3:4], X[3:4]])"
   ]
  },
  {
   "cell_type": "code",
   "execution_count": 18,
   "metadata": {},
   "outputs": [
    {
     "name": "stdout",
     "output_type": "stream",
     "text": [
      "\r",
      "1/1 [==============================] - 0s 134ms/step\n"
     ]
    },
    {
     "data": {
      "text/plain": [
       "0.005449232179671526"
      ]
     },
     "execution_count": 18,
     "metadata": {},
     "output_type": "execute_result"
    }
   ],
   "source": [
    "total_model.evaluate([X[2:3], X[2:3, :-11]], Y[2:3, 1:-10, 1:])"
   ]
  },
  {
   "cell_type": "code",
   "execution_count": 152,
   "metadata": {
    "collapsed": true
   },
   "outputs": [],
   "source": [
    "test_emb_model = Model([encoder_input], [encoder_recurent_1, encoder_h, encoder_c])"
   ]
  },
  {
   "cell_type": "code",
   "execution_count": 153,
   "metadata": {
    "scrolled": true
   },
   "outputs": [
    {
     "data": {
      "text/plain": [
       "[array([[[ 0.00361177,  0.00200437],\n",
       "         [ 0.00113529,  0.00691362],\n",
       "         [ 0.00113529,  0.00691362],\n",
       "         [ 0.00113529,  0.00691362]]], dtype=float32),\n",
       " array([[ 0.00113529,  0.00691362]], dtype=float32),\n",
       " array([[ 0.00227829,  0.01407163]], dtype=float32)]"
      ]
     },
     "execution_count": 153,
     "metadata": {},
     "output_type": "execute_result"
    }
   ],
   "source": [
    "test_emb_model.predict([np.array([[4, 1, 0, 0]])])"
   ]
  },
  {
   "cell_type": "code",
   "execution_count": 231,
   "metadata": {},
   "outputs": [
    {
     "data": {
      "text/plain": [
       "array([[4, 1, 2, 1, 2, 1, 2, 1, 2, 1, 2, 1, 2, 1, 2, 1, 3, 0, 0, 0, 0, 0,\n",
       "        0, 0, 0, 0, 0, 0, 0, 0, 0, 0, 0, 0, 0]])"
      ]
     },
     "execution_count": 231,
     "metadata": {},
     "output_type": "execute_result"
    }
   ],
   "source": [
    "X[2:3]"
   ]
  },
  {
   "cell_type": "code",
   "execution_count": 19,
   "metadata": {
    "collapsed": true
   },
   "outputs": [],
   "source": [
    "h_, c_ = encoder.predict(X[2:3])"
   ]
  },
  {
   "cell_type": "code",
   "execution_count": 20,
   "metadata": {},
   "outputs": [
    {
     "data": {
      "text/plain": [
       "array([[ 1.        ,  1.        , -0.82294881,  0.9999994 ,  0.75577402,\n",
       "        -0.85939002, -0.00303627,  0.98459089, -0.99907577, -0.99637777]], dtype=float32)"
      ]
     },
     "execution_count": 20,
     "metadata": {},
     "output_type": "execute_result"
    }
   ],
   "source": [
    "h_"
   ]
  },
  {
   "cell_type": "code",
   "execution_count": 24,
   "metadata": {},
   "outputs": [
    {
     "data": {
      "text/plain": [
       "array([[[  9.96224165e-01,   3.65169672e-03,   1.83393695e-05,\n",
       "           1.05873689e-04],\n",
       "        [  7.38301035e-03,   9.91916001e-01,   1.23291335e-04,\n",
       "           5.77675761e-04],\n",
       "        [  9.97010708e-01,   2.80570565e-03,   3.44130058e-05,\n",
       "           1.49042156e-04],\n",
       "        [  6.28708769e-03,   9.93066072e-01,   1.36212839e-04,\n",
       "           5.10610116e-04],\n",
       "        [  9.96821165e-01,   2.98481737e-03,   3.70659873e-05,\n",
       "           1.56952738e-04],\n",
       "        [  4.63962601e-03,   9.94651139e-01,   1.93811284e-04,\n",
       "           5.15455031e-04],\n",
       "        [  9.96375024e-01,   3.39905941e-03,   4.62059143e-05,\n",
       "           1.79735303e-04],\n",
       "        [  3.36060859e-03,   9.95808601e-01,   3.00347834e-04,\n",
       "           5.30408695e-04],\n",
       "        [  9.95743215e-01,   3.98450345e-03,   6.05065979e-05,\n",
       "           2.11692488e-04],\n",
       "        [  2.73314654e-03,   9.96313274e-01,   4.12216265e-04,\n",
       "           5.41304937e-04],\n",
       "        [  9.95342612e-01,   4.34601633e-03,   7.81020062e-05,\n",
       "           2.33310333e-04],\n",
       "        [  2.81115249e-03,   9.96012092e-01,   6.13489712e-04,\n",
       "           5.63281006e-04],\n",
       "        [  9.96271849e-01,   3.41191352e-03,   1.17533331e-04,\n",
       "           1.98656373e-04],\n",
       "        [  6.67153066e-03,   9.85975683e-01,   6.36420073e-03,\n",
       "           9.88606364e-04],\n",
       "        [  9.94136930e-01,   1.28683995e-03,   4.22505103e-03,\n",
       "           3.51264898e-04],\n",
       "        [  1.59334077e-03,   1.16921067e-02,   9.86054122e-01,\n",
       "           6.60364341e-04]]], dtype=float32)"
      ]
     },
     "execution_count": 24,
     "metadata": {},
     "output_type": "execute_result"
    }
   ],
   "source": [
    "total_decoder.predict([np.array([[4, 1, 2, 1, 2, 1, 2, 1, 2, 1, 2, 1, 2, 1, 2, 1]]), h_, c_])"
   ]
  },
  {
   "cell_type": "code",
   "execution_count": 104,
   "metadata": {},
   "outputs": [
    {
     "data": {
      "text/plain": [
       "array([[ 0.,  0.,  0.,  0.],\n",
       "       [ 0.,  1.,  0.,  0.],\n",
       "       [ 0.,  1.,  0.,  0.],\n",
       "       [ 0.,  1.,  0.,  0.],\n",
       "       [ 0.,  1.,  0.,  0.],\n",
       "       [ 0.,  1.,  0.,  0.],\n",
       "       [ 0.,  1.,  0.,  0.],\n",
       "       [ 0.,  1.,  0.,  0.],\n",
       "       [ 0.,  1.,  0.,  0.],\n",
       "       [ 0.,  1.,  0.,  0.],\n",
       "       [ 0.,  1.,  0.,  0.],\n",
       "       [ 0.,  0.,  0.,  1.],\n",
       "       [ 1.,  0.,  0.,  0.],\n",
       "       [ 1.,  0.,  0.,  0.],\n",
       "       [ 1.,  0.,  0.,  0.],\n",
       "       [ 1.,  0.,  0.,  0.],\n",
       "       [ 1.,  0.,  0.,  0.],\n",
       "       [ 1.,  0.,  0.,  0.],\n",
       "       [ 1.,  0.,  0.,  0.],\n",
       "       [ 1.,  0.,  0.,  0.],\n",
       "       [ 1.,  0.,  0.,  0.],\n",
       "       [ 1.,  0.,  0.,  0.],\n",
       "       [ 1.,  0.,  0.,  0.],\n",
       "       [ 1.,  0.,  0.,  0.],\n",
       "       [ 1.,  0.,  0.,  0.],\n",
       "       [ 1.,  0.,  0.,  0.],\n",
       "       [ 1.,  0.,  0.,  0.],\n",
       "       [ 1.,  0.,  0.,  0.],\n",
       "       [ 1.,  0.,  0.,  0.],\n",
       "       [ 1.,  0.,  0.,  0.],\n",
       "       [ 1.,  0.,  0.,  0.],\n",
       "       [ 1.,  0.,  0.,  0.],\n",
       "       [ 1.,  0.,  0.,  0.],\n",
       "       [ 1.,  0.,  0.,  0.],\n",
       "       [ 1.,  0.,  0.,  0.]])"
      ]
     },
     "execution_count": 104,
     "metadata": {},
     "output_type": "execute_result"
    }
   ],
   "source": [
    "Y[4]"
   ]
  },
  {
   "cell_type": "code",
   "execution_count": null,
   "metadata": {
    "collapsed": true
   },
   "outputs": [],
   "source": []
  },
  {
   "cell_type": "code",
   "execution_count": null,
   "metadata": {
    "collapsed": true
   },
   "outputs": [],
   "source": []
  }
 ],
 "metadata": {
  "kernelspec": {
   "display_name": "Python 3",
   "language": "python",
   "name": "python3"
  },
  "language_info": {
   "codemirror_mode": {
    "name": "ipython",
    "version": 3
   },
   "file_extension": ".py",
   "mimetype": "text/x-python",
   "name": "python",
   "nbconvert_exporter": "python",
   "pygments_lexer": "ipython3",
   "version": "3.6.3"
  }
 },
 "nbformat": 4,
 "nbformat_minor": 2
}
