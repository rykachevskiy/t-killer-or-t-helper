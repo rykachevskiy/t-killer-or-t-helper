{
 "cells": [
  {
   "cell_type": "code",
   "execution_count": 23,
   "metadata": {
    "collapsed": true
   },
   "outputs": [],
   "source": [
    "import numpy as np\n",
    "\n",
    "import theano\n",
    "import theano.tensor as T\n",
    "import lasagne\n",
    "\n",
    "from tqdm import tqdm, tqdm_notebook\n",
    "\n",
    "import time\n",
    "from IPython import display\n",
    "\n",
    "import matplotlib.pyplot as plt\n",
    "\n",
    "import networkx as nx\n",
    "\n",
    "import pandas as pd\n",
    "\n",
    "from sklearn.mixture import GaussianMixture, GMM"
   ]
  },
  {
   "cell_type": "code",
   "execution_count": 19,
   "metadata": {
    "collapsed": true
   },
   "outputs": [],
   "source": [
    "from sklearn.model_selection import train_test_split\n",
    "from sklearn.metrics import accuracy_score,f1_score\n",
    "from sklearn.linear_model import LogisticRegression\n",
    "from sklearn.svm import SVC"
   ]
  },
  {
   "cell_type": "code",
   "execution_count": 21,
   "metadata": {
    "collapsed": true
   },
   "outputs": [],
   "source": [
    "one_hot_X = np.load(\"../data/LY/LY_one_hot_15.npy\").astype(np.int8)\n",
    "y = np.load(\"../data/LY/LY_one_hot_15_y.npy\").astype(np.int8)"
   ]
  },
  {
   "cell_type": "code",
   "execution_count": 24,
   "metadata": {
    "collapsed": true
   },
   "outputs": [],
   "source": [
    "kidera = pd.DataFrame(list(map(lambda x: x.split(\",\"), \"A,-1.56,-1.67,-0.97,-0.27,-0.93,-0.78,-0.2,-0.08,0.21,-0.48;R,0.22,1.27,1.37,1.87,-1.7,0.46,0.92,-0.39,0.23,0.93;N,1.14,-0.07,-0.12,0.81,0.18,0.37,-0.09,1.23,1.1,-1.73;D,0.58,-0.22,-1.58,0.81,-0.92,0.15,-1.52,0.47,0.76,0.7;C,0.12,-0.89,0.45,-1.05,-0.71,2.41,1.52,-0.69,1.13,1.1;Q,-0.47,0.24,0.07,1.1,1.1,0.59,0.84,-0.71,-0.03,-2.33;E,-1.45,0.19,-1.61,1.17,-1.31,0.4,0.04,0.38,-0.35,-0.12;G,1.46,-1.96,-0.23,-0.16,0.1,-0.11,1.32,2.36,-1.66,0.46;H,-0.41,0.52,-0.28,0.28,1.61,1.01,-1.85,0.47,1.13,1.63;I,-0.73,-0.16,1.79,-0.77,-0.54,0.03,-0.83,0.51,0.66,-1.78;L,-1.04,0,-0.24,-1.1,-0.55,-2.05,0.96,-0.76,0.45,0.93;K,-0.34,0.82,-0.23,1.7,1.54,-1.62,1.15,-0.08,-0.48,0.6;M,-1.4,0.18,-0.42,-0.73,2,1.52,0.26,0.11,-1.27,0.27;F,-0.21,0.98,-0.36,-1.43,0.22,-0.81,0.67,1.1,1.71,-0.44;P,2.06,-0.33,-1.15,-0.75,0.88,-0.45,0.3,-2.3,0.74,-0.28;S,0.81,-1.08,0.16,0.42,-0.21,-0.43,-1.89,-1.15,-0.97,-0.23;T,0.26,-0.7,1.21,0.63,-0.1,0.21,0.24,-1.15,-0.56,0.19;W,0.3,2.1,-0.72,-1.57,-1.16,0.57,-0.48,-0.4,-2.3,-0.6;Y,1.38,1.48,0.8,-0.56,0,-0.68,-0.31,1.03,-0.05,0.53;V,-0.74,-0.71,2.04,-0.4,0.5,-0.81,-1.07,0.06,-0.46,0.65\".split(\";\"))), index=[\"A\",\"R\",\"N\",\"D\",\"C\",\"Q\",\"E\",\"G\",\"H\",\"I\",\"L\",\"K\",\"M\",\"F\",\"P\",\"S\",\"T\",\"W\",\"Y\",\"V\"], columns=[\"aminoacid\"] + list(map(lambda x: \"f\"+str(x), range(1,11))))"
   ]
  },
  {
   "cell_type": "code",
   "execution_count": 3,
   "metadata": {
    "collapsed": true
   },
   "outputs": [],
   "source": [
    "# one_hot_X = np.load(\"../data/mnist_test_X.npy\")\n",
    "# y = np.load(\"../data/mnist_test_Y.npy\")"
   ]
  },
  {
   "cell_type": "code",
   "execution_count": 25,
   "metadata": {
    "collapsed": true
   },
   "outputs": [],
   "source": [
    "one_hot_X = one_hot_X.reshape(-1, 15, 20)"
   ]
  },
  {
   "cell_type": "code",
   "execution_count": 36,
   "metadata": {
    "collapsed": true
   },
   "outputs": [],
   "source": [
    "kidera_values = kidera[kidera.columns[1:]].values"
   ]
  },
  {
   "cell_type": "code",
   "execution_count": 48,
   "metadata": {},
   "outputs": [
    {
     "data": {
      "application/vnd.jupyter.widget-view+json": {
       "model_id": "abbe301705a74e869bbd43fc0efe8c9e",
       "version_major": 2,
       "version_minor": 0
      },
      "text/plain": [
       "A Jupyter Widget"
      ]
     },
     "metadata": {},
     "output_type": "display_data"
    },
    {
     "name": "stdout",
     "output_type": "stream",
     "text": [
      "\n"
     ]
    }
   ],
   "source": [
    "#def one_hot_to_emb(X):\n",
    "\n",
    "emb_X = np.zeros((one_hot_X.shape[0], 15, 10))\n",
    "\n",
    "for i, x in tqdm_notebook(enumerate(one_hot_X)):\n",
    "    where = np.where(x)\n",
    "    for x_pos, y_pos in zip(where[0], where[1]):\n",
    "        \n",
    "        emb_X[i, x_pos, :] = kidera_values[y_pos]\n",
    "    "
   ]
  },
  {
   "cell_type": "code",
   "execution_count": 63,
   "metadata": {},
   "outputs": [
    {
     "data": {
      "text/plain": [
       "(622947, 10, 15)"
      ]
     },
     "execution_count": 63,
     "metadata": {},
     "output_type": "execute_result"
    }
   ],
   "source": [
    "emb_X = emb_X.transpose([0,2,1])\n",
    "emb_X.shape"
   ]
  },
  {
   "cell_type": "code",
   "execution_count": 64,
   "metadata": {
    "collapsed": true
   },
   "outputs": [],
   "source": [
    "train_X, test_X, train_y,  test_y = train_test_split(emb_X, y)\n"
   ]
  },
  {
   "cell_type": "code",
   "execution_count": null,
   "metadata": {
    "collapsed": true
   },
   "outputs": [],
   "source": [
    "#FC net overfits\n",
    "\n",
    "input_X = T.matrix(\"X\")\n",
    "input_shape = [None,300]\n",
    "\n",
    "vl_input = lasagne.layers.InputLayer(input_shape)\n",
    "\n",
    "dense_1 = lasagne.layers.DenseLayer(vl_input, 300, nonlinearity=lasagne.nonlinearities.rectify)\n",
    "dense_2 = lasagne.layers.DenseLayer(dense_1, 300, nonlinearity=lasagne.nonlinearities.rectify)\n",
    "dense_3 = lasagne.layers.DenseLayer(dense_2, 300, nonlinearity=lasagne.nonlinearities.rectify)\n",
    "vl_output = lasagne.layers.DenseLayer(dense_3, 1, nonlinearity=lasagne.nonlinearities.sigmoid)"
   ]
  },
  {
   "cell_type": "code",
   "execution_count": 85,
   "metadata": {
    "collapsed": true
   },
   "outputs": [],
   "source": [
    "input_X = T.tensor3(\"X\")\n",
    "input_shape = [None,10,15]\n",
    "\n",
    "vl_input = lasagne.layers.InputLayer(input_shape)\n",
    "\n",
    "vl_conv_1 = lasagne.layers.Conv1DLayer(vl_input, num_filters=20, filter_size=5, stride = 1, pad = 2)\n",
    "#vl_pool_1 = lasagne.layers.MaxPool1DLayer(vl_conv_1, 2)\n",
    "\n",
    "vl_conv_2 = lasagne.layers.Conv1DLayer(vl_conv_1, 40, 5, stride = 1, pad = 2)\n",
    "#vl_pool_2 = lasagne.layers.Pool1DLayer(vl_conv_2, 2)\n",
    "\n",
    "vl_conv_3 = lasagne.layers.Conv1DLayer(vl_conv_2, 80, 5, stride = 1, pad = 2)\n",
    "#vl_pool_3 = lasagne.layers.Pool1DLayer(vl_conv_3, 2)\n",
    "\n",
    "vl_reshape_back = lasagne.layers.FlattenLayer(vl_conv_3)\n",
    "dense_3 = lasagne.layers.DenseLayer(vl_reshape_back, 400, nonlinearity=lasagne.nonlinearities.rectify)\n",
    "vl_output = lasagne.layers.DenseLayer(dense_3, 1, nonlinearity=lasagne.nonlinearities.sigmoid)"
   ]
  },
  {
   "cell_type": "code",
   "execution_count": 86,
   "metadata": {},
   "outputs": [
    {
     "name": "stdout",
     "output_type": "stream",
     "text": [
      "<lasagne.layers.input.InputLayer object at 0x7f18aecfd4a8> (13, 10, 15) (13, 10, 15)\n",
      "<lasagne.layers.conv.Conv1DLayer object at 0x7f18aecfd4e0> (13, 10, 15) (13, 20, 15)\n",
      "<lasagne.layers.conv.Conv1DLayer object at 0x7f18aecfdfd0> (13, 20, 15) (13, 40, 15)\n",
      "<lasagne.layers.conv.Conv1DLayer object at 0x7f18aed00160> (13, 40, 15) (13, 80, 15)\n",
      "<lasagne.layers.shape.FlattenLayer object at 0x7f18aec5d588> (13, 80, 15) (13, 1200)\n",
      "<lasagne.layers.dense.DenseLayer object at 0x7f18aec5d668> (13, 1200) (13, 400)\n",
      "<lasagne.layers.dense.DenseLayer object at 0x7f18aec5d358> (13, 400) (13, 1)\n"
     ]
    }
   ],
   "source": [
    "sh = (13, 10, 15)\n",
    "for layer in lasagne.layers.get_all_layers(vl_output):\n",
    "    \n",
    "    out_sh = layer.get_output_shape_for(sh)\n",
    "\n",
    "    print(layer, sh, out_sh)\n",
    "    \n",
    "    sh = out_sh"
   ]
  },
  {
   "cell_type": "code",
   "execution_count": 87,
   "metadata": {
    "collapsed": true
   },
   "outputs": [],
   "source": [
    "target = T.vector()"
   ]
  },
  {
   "cell_type": "code",
   "execution_count": 88,
   "metadata": {
    "collapsed": true
   },
   "outputs": [],
   "source": [
    "# create prediction variable\n",
    "v_prediction = lasagne.layers.get_output(vl_output, inputs = input_X, deterministic=True)\n",
    "# create loss function\n",
    "v_loss = lasagne.objectives.binary_crossentropy(v_prediction, target).mean()\n",
    "\n",
    "# create parameter update expressions\n",
    "v_params = lasagne.layers.get_all_params(vl_output, trainable = True)\n",
    "lr = theano.shared(0.01)\n",
    "v_updates = lasagne.updates.adam(v_loss, v_params, learning_rate=lr, beta2=0.98)\n",
    "\n",
    "# compile training and testing functions\n",
    "v_train_fn = theano.function([input_X, target], v_loss, updates = v_updates)\n",
    "v_test_fn = theano.function([input_X], v_prediction)\n",
    "v_test_loss_fn = theano.function([input_X, target], v_loss)"
   ]
  },
  {
   "cell_type": "code",
   "execution_count": 72,
   "metadata": {
    "collapsed": true
   },
   "outputs": [],
   "source": [
    "def iterate_minibatches(inputs, y, batchsize, shuffle=True):\n",
    "    if shuffle:\n",
    "        indices = np.arange(len(inputs))\n",
    "        np.random.shuffle(indices)\n",
    "    for start_idx in range(0, len(inputs) - batchsize + 1, batchsize):\n",
    "        if shuffle:\n",
    "            excerpt = indices[start_idx:start_idx + batchsize]\n",
    "        else:\n",
    "            excerpt = slice(start_idx, start_idx + batchsize)\n",
    "        yield inputs[excerpt], y[excerpt]"
   ]
  },
  {
   "cell_type": "code",
   "execution_count": 89,
   "metadata": {
    "collapsed": true
   },
   "outputs": [],
   "source": [
    "epochs = 20\n",
    "v_losses_train = []\n",
    "all_losses = []\n",
    "v_logloss = []\n",
    "v_losses_valid = []\n",
    "#val_batches = 500\n",
    "batch_size = 400\n",
    "print_interval = 20"
   ]
  },
  {
   "cell_type": "code",
   "execution_count": null,
   "metadata": {
    "collapsed": true
   },
   "outputs": [],
   "source": []
  },
  {
   "cell_type": "code",
   "execution_count": 102,
   "metadata": {
    "scrolled": true
   },
   "outputs": [
    {
     "data": {
      "image/png": "[encoded data removed]",
      "text/plain": [
       "<matplotlib.figure.Figure at 0x7f18af0ccd68>"
      ]
     },
     "metadata": {},
     "output_type": "display_data"
    },
    {
     "ename": "KeyboardInterrupt",
     "evalue": "",
     "output_type": "error",
     "traceback": [
      "\u001b[0;31m---------------------------------------------------------------------------\u001b[0m",
      "\u001b[0;31mKeyboardInterrupt\u001b[0m                         Traceback (most recent call last)",
      "\u001b[0;32m<ipython-input-102-a292ec08c041>\u001b[0m in \u001b[0;36m<module>\u001b[0;34m()\u001b[0m\n\u001b[1;32m      4\u001b[0m     \u001b[0mlogloss_tr\u001b[0m \u001b[0;34m=\u001b[0m \u001b[0;36m0.\u001b[0m\u001b[0;34m\u001b[0m\u001b[0m\n\u001b[1;32m      5\u001b[0m     \u001b[0;32mfor\u001b[0m \u001b[0mi\u001b[0m\u001b[0;34m,\u001b[0m \u001b[0;34m(\u001b[0m\u001b[0mbatch_x\u001b[0m\u001b[0;34m,\u001b[0m \u001b[0mbatch_y\u001b[0m\u001b[0;34m)\u001b[0m \u001b[0;32min\u001b[0m \u001b[0mtqdm_notebook\u001b[0m\u001b[0;34m(\u001b[0m\u001b[0menumerate\u001b[0m\u001b[0;34m(\u001b[0m\u001b[0miterate_minibatches\u001b[0m\u001b[0;34m(\u001b[0m\u001b[0mtrain_X\u001b[0m\u001b[0;34m,\u001b[0m \u001b[0mtrain_y\u001b[0m\u001b[0;34m,\u001b[0m \u001b[0mbatch_size\u001b[0m\u001b[0;34m)\u001b[0m\u001b[0;34m)\u001b[0m\u001b[0;34m)\u001b[0m\u001b[0;34m:\u001b[0m\u001b[0;34m\u001b[0m\u001b[0m\n\u001b[0;32m----> 6\u001b[0;31m         \u001b[0mcurr_loss\u001b[0m \u001b[0;34m=\u001b[0m \u001b[0mv_train_fn\u001b[0m\u001b[0;34m(\u001b[0m\u001b[0mbatch_x\u001b[0m\u001b[0;34m,\u001b[0m \u001b[0mbatch_y\u001b[0m\u001b[0;34m)\u001b[0m\u001b[0;34m\u001b[0m\u001b[0m\n\u001b[0m\u001b[1;32m      7\u001b[0m         \u001b[0mls_tr\u001b[0m \u001b[0;34m+=\u001b[0m \u001b[0mcurr_loss\u001b[0m\u001b[0;34m\u001b[0m\u001b[0m\n\u001b[1;32m      8\u001b[0m \u001b[0;34m\u001b[0m\u001b[0m\n",
      "\u001b[0;32m~/anaconda3/lib/python3.6/site-packages/theano/compile/function_module.py\u001b[0m in \u001b[0;36m__call__\u001b[0;34m(self, *args, **kwargs)\u001b[0m\n\u001b[1;32m    901\u001b[0m         \u001b[0;32mtry\u001b[0m\u001b[0;34m:\u001b[0m\u001b[0;34m\u001b[0m\u001b[0m\n\u001b[1;32m    902\u001b[0m             \u001b[0moutputs\u001b[0m \u001b[0;34m=\u001b[0m\u001b[0;31m\\\u001b[0m\u001b[0;34m\u001b[0m\u001b[0m\n\u001b[0;32m--> 903\u001b[0;31m                 \u001b[0mself\u001b[0m\u001b[0;34m.\u001b[0m\u001b[0mfn\u001b[0m\u001b[0;34m(\u001b[0m\u001b[0;34m)\u001b[0m \u001b[0;32mif\u001b[0m \u001b[0moutput_subset\u001b[0m \u001b[0;32mis\u001b[0m \u001b[0;32mNone\u001b[0m \u001b[0;32melse\u001b[0m\u001b[0;31m\\\u001b[0m\u001b[0;34m\u001b[0m\u001b[0m\n\u001b[0m\u001b[1;32m    904\u001b[0m                 \u001b[0mself\u001b[0m\u001b[0;34m.\u001b[0m\u001b[0mfn\u001b[0m\u001b[0;34m(\u001b[0m\u001b[0moutput_subset\u001b[0m\u001b[0;34m=\u001b[0m\u001b[0moutput_subset\u001b[0m\u001b[0;34m)\u001b[0m\u001b[0;34m\u001b[0m\u001b[0m\n\u001b[1;32m    905\u001b[0m         \u001b[0;32mexcept\u001b[0m \u001b[0mException\u001b[0m\u001b[0;34m:\u001b[0m\u001b[0;34m\u001b[0m\u001b[0m\n",
      "\u001b[0;31mKeyboardInterrupt\u001b[0m: "
     ]
    }
   ],
   "source": [
    "for epoch in range(epochs):\n",
    "    ls_tr = 0.\n",
    "    ls_val = 0.\n",
    "    logloss_tr = 0.\n",
    "    for i, (batch_x, batch_y) in tqdm_notebook(enumerate(iterate_minibatches(train_X, train_y, batch_size))):\n",
    "        curr_loss = v_train_fn(batch_x, batch_y)\n",
    "        ls_tr += curr_loss\n",
    "        \n",
    "        if i % print_interval == 0 and i > 0:\n",
    "            all_losses.append(ls_tr / print_interval)\n",
    "            ls_tr = 0\n",
    "            \n",
    "            display.clear_output(wait=True)\n",
    "            plt.plot(all_losses[1:], label='train')\n",
    "            plt.plot(v_losses_valid[1:], label='test')\n",
    "            plt.legend()\n",
    "            plt.show()\n",
    "        \n",
    "    v_losses_train.append(ls_tr/ i)\n",
    "    \n",
    "    for i, (batch_x, batch_y) in enumerate(iterate_minibatches(test_X,test_y, batch_size)):\n",
    "        ls_val += v_test_loss_fn(batch_x, batch_y)\n",
    "        \n",
    "        \n",
    "        if i % print_interval == 0 and i != 0 :\n",
    "            v_losses_valid.append(ls_val / print_interval)\n",
    "            ls_val = 0\n",
    "            display.clear_output(wait=True)\n",
    "            plt.plot(all_losses[1:], label='train')\n",
    "            plt.plot(v_losses_valid[1:], label='test')\n",
    "            plt.legend()\n",
    "            plt.show()\n",
    "            \n",
    "    #lr = lr * 0.98\n",
    "        \n",
    "    #tqdm.write(str(ls_val / i))\n",
    "    \n",
    "    "
   ]
  },
  {
   "cell_type": "code",
   "execution_count": 93,
   "metadata": {
    "scrolled": true
   },
   "outputs": [
    {
     "data": {
      "text/plain": [
       "array(0.00833748)"
      ]
     },
     "execution_count": 93,
     "metadata": {},
     "output_type": "execute_result"
    }
   ],
   "source": [
    "lr = "
   ]
  },
  {
   "cell_type": "code",
   "execution_count": null,
   "metadata": {
    "collapsed": true
   },
   "outputs": [],
   "source": [
    "test_y[:10].shape"
   ]
  },
  {
   "cell_type": "code",
   "execution_count": null,
   "metadata": {
    "collapsed": true
   },
   "outputs": [],
   "source": [
    "v_test_loss_fn(test_X[:10000], test_y[:10000])"
   ]
  },
  {
   "cell_type": "code",
   "execution_count": null,
   "metadata": {
    "collapsed": true
   },
   "outputs": [],
   "source": [
    "for batch_x, batch_y in iterate_minibatches(test_X[:1000],test_y[:1000], 1000):\n",
    "    print( v_test_loss_fn(batch_x, batch_y))\n",
    "    "
   ]
  },
  {
   "cell_type": "code",
   "execution_count": 103,
   "metadata": {
    "collapsed": true
   },
   "outputs": [],
   "source": [
    "pred = v_prediction.eval({input_X : test_X[:40]})"
   ]
  },
  {
   "cell_type": "code",
   "execution_count": 78,
   "metadata": {
    "collapsed": true
   },
   "outputs": [],
   "source": [
    "pred_train = v_prediction.eval({input_X : train_X[:200]})"
   ]
  },
  {
   "cell_type": "code",
   "execution_count": 104,
   "metadata": {},
   "outputs": [
    {
     "data": {
      "text/plain": [
       "array([0.24417832, 0.14624386, 0.324189  , 0.10277796, 0.1590145 ,\n",
       "       0.40386752, 0.42674074, 0.26479691, 0.48014628, 0.37245137,\n",
       "       0.22561598, 0.30465762, 0.23322755, 0.25632186, 0.2268983 ,\n",
       "       0.24953447, 0.06602352, 0.1756705 , 0.38152281, 0.41893847,\n",
       "       0.3655147 , 0.06785789, 0.39970267, 0.36263907, 0.36462282,\n",
       "       0.3742513 , 0.32495071, 0.25239156, 0.37425188, 0.14226914,\n",
       "       0.22002152, 0.0873168 , 0.20243637, 0.14262707, 0.32840098,\n",
       "       0.23544537, 0.4793802 , 0.33565448, 0.54876902, 0.17097318])"
      ]
     },
     "execution_count": 104,
     "metadata": {},
     "output_type": "execute_result"
    }
   ],
   "source": [
    "(pred.reshape(-1))[:]"
   ]
  },
  {
   "cell_type": "code",
   "execution_count": 105,
   "metadata": {},
   "outputs": [
    {
     "data": {
      "text/plain": [
       "array([0, 0, 1, 0, 0, 0, 0, 0, 0, 0, 0, 0, 0, 0, 0, 0, 0, 1, 0, 0, 0, 0,\n",
       "       0, 1, 0, 0, 1, 0, 1, 0, 0, 0, 0, 0, 0, 1, 0, 0, 0, 0], dtype=int8)"
      ]
     },
     "execution_count": 105,
     "metadata": {},
     "output_type": "execute_result"
    }
   ],
   "source": [
    "test_y[:40]"
   ]
  },
  {
   "cell_type": "code",
   "execution_count": 83,
   "metadata": {},
   "outputs": [
    {
     "data": {
      "text/plain": [
       "array([0.20658608, 0.45276935, 0.31456697, 0.4226934 , 0.28295978,\n",
       "       0.20460851, 0.32935463, 0.24531031, 0.30916384, 0.36586196,\n",
       "       0.45020717, 0.20100626, 0.50296292, 0.12402872, 0.22737628,\n",
       "       0.39674183, 0.51186883, 0.23529346, 0.27751019, 0.36974411])"
      ]
     },
     "execution_count": 83,
     "metadata": {},
     "output_type": "execute_result"
    }
   ],
   "source": [
    "pred_train[:20].reshape(-1)"
   ]
  },
  {
   "cell_type": "code",
   "execution_count": 84,
   "metadata": {},
   "outputs": [
    {
     "data": {
      "text/plain": [
       "array([0, 1, 0, 0, 0, 0, 0, 0, 1, 0, 1, 0, 1, 0, 0, 1, 0, 1, 0, 0],\n",
       "      dtype=int8)"
      ]
     },
     "execution_count": 84,
     "metadata": {},
     "output_type": "execute_result"
    }
   ],
   "source": [
    "train_y[:20]"
   ]
  },
  {
   "cell_type": "code",
   "execution_count": 96,
   "metadata": {},
   "outputs": [
    {
     "data": {
      "text/plain": [
       "array([0, 0, 1, 0, 0, 0, 0, 0, 0, 0, 0, 0, 0, 0, 0, 0, 0, 1, 0, 0],\n",
       "      dtype=int8)"
      ]
     },
     "execution_count": 96,
     "metadata": {},
     "output_type": "execute_result"
    }
   ],
   "source": [
    "test_y[:20]"
   ]
  },
  {
   "cell_type": "code",
   "execution_count": 106,
   "metadata": {},
   "outputs": [
    {
     "data": {
      "text/plain": [
       "0.0"
      ]
     },
     "execution_count": 106,
     "metadata": {},
     "output_type": "execute_result"
    }
   ],
   "source": [
    "f1_score(test_y[:40], pred > 0.5)"
   ]
  },
  {
   "cell_type": "code",
   "execution_count": null,
   "metadata": {
    "collapsed": true
   },
   "outputs": [],
   "source": [
    "f1_score(train_y[:200], pred_train > 0.5)"
   ]
  },
  {
   "cell_type": "code",
   "execution_count": null,
   "metadata": {
    "collapsed": true
   },
   "outputs": [],
   "source": []
  }
 ],
 "metadata": {
  "kernelspec": {
   "display_name": "Python 3",
   "language": "python",
   "name": "python3"
  },
  "language_info": {
   "codemirror_mode": {
    "name": "ipython",
    "version": 3
   },
   "file_extension": ".py",
   "mimetype": "text/x-python",
   "name": "python",
   "nbconvert_exporter": "python",
   "pygments_lexer": "ipython3",
   "version": "3.6.3"
  }
 },
 "nbformat": 4,
 "nbformat_minor": 2
}
