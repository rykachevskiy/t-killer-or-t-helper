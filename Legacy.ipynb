{
 "cells": [
  {
   "cell_type": "code",
   "execution_count": 2,
   "metadata": {
    "collapsed": true
   },
   "outputs": [],
   "source": [
    "import pandas as pd\n",
    "import pickle"
   ]
  },
  {
   "cell_type": "markdown",
   "metadata": {},
   "source": [
    "## Prepare Dict"
   ]
  },
  {
   "cell_type": "code",
   "execution_count": 3,
   "metadata": {},
   "outputs": [],
   "source": [
    "CDR1_to_seq = dict(pd.read_table(\"../random_data/TRBV_aaCDR1_func.tsv\", names = ['gene', 'seq']).values)\n",
    "CDR2_to_seq= dict(pd.read_table(\"../random_data/TRBV_aaCDR2_func.tsv\", names = ['gene', 'seq']).values)"
   ]
  },
  {
   "cell_type": "code",
   "execution_count": 10,
   "metadata": {
    "collapsed": true,
    "scrolled": true
   },
   "outputs": [],
   "source": [
    "not_presented = sorted([x for x in set([x for x in t4[\"V\"].values if x not in CDR2_to_seq.keys()])])"
   ]
  },
  {
   "cell_type": "code",
   "execution_count": 11,
   "metadata": {
    "collapsed": true
   },
   "outputs": [],
   "source": [
    "CDR1_add = [\"GHDS\", \"WNHNN\", \"SGHND\", \"FGHNF\", \"KGHSY\", \"KAHSY\", \"KGHTF\", \n",
    "           \"LGHNA\", \"GTSNPN\", \"SGHSS\", \"SGHTS\", \"MNHEY\", \"MNHEY\", \"SGHVT\", \"_____\"]\n",
    "CDR2_add = [\"YNCKEF\", \"SYGVQD\", \"FCSWTL\", 'FRS_SI', \"FQNENV\", \"FQNEEL\", \"FQNEQV\", \n",
    "           \"YSNKEP\", \"SVGIG\", \"YANELR\", \"YYEKEE\", \"SVGEGT\", \"SVAAAL\", \"SQSDAQ\", \"______\"]\n",
    "\n"
   ]
  },
  {
   "cell_type": "code",
   "execution_count": 12,
   "metadata": {
    "collapsed": true
   },
   "outputs": [],
   "source": [
    "for i, gene in enumerate(not_presented):\n",
    "    CDR1_to_seq[gene] = CDR1_add[i]\n",
    "    CDR2_to_seq[gene] = CDR2_add[i]"
   ]
  },
  {
   "cell_type": "code",
   "execution_count": 13,
   "metadata": {
    "collapsed": true
   },
   "outputs": [],
   "source": [
    "pickle.dump(CDR1_to_seq, open(\"../CDR1_dict\", 'wb'))\n",
    "pickle.dump(CDR2_to_seq, open(\"../CDR2_dict\", 'wb'))"
   ]
  },
  {
   "cell_type": "code",
   "execution_count": 14,
   "metadata": {},
   "outputs": [
    {
     "data": {
      "text/plain": [
       "58"
      ]
     },
     "execution_count": 14,
     "metadata": {},
     "output_type": "execute_result"
    }
   ],
   "source": [
    "len(pickle.load(open(\"../CDR1_dict\", 'rb')))"
   ]
  },
  {
   "cell_type": "code",
   "execution_count": 15,
   "metadata": {},
   "outputs": [
    {
     "data": {
      "text/plain": [
       "58"
      ]
     },
     "execution_count": 15,
     "metadata": {},
     "output_type": "execute_result"
    }
   ],
   "source": [
    "len(CDR2_to_seq)"
   ]
  },
  {
   "cell_type": "code",
   "execution_count": null,
   "metadata": {
    "collapsed": true
   },
   "outputs": [],
   "source": []
  },
  {
   "cell_type": "code",
   "execution_count": null,
   "metadata": {
    "collapsed": true
   },
   "outputs": [],
   "source": []
  },
  {
   "cell_type": "code",
   "execution_count": 5,
   "metadata": {},
   "outputs": [],
   "source": [
    "CDR1_to_seq = pickle.load(open(\"../random_data/CDR1_dict\", 'rb'))\n",
    "CDR2_to_seq = pickle.load(open(\"../random_data/CDR2_dict\", 'rb'))"
   ]
  },
  {
   "cell_type": "code",
   "execution_count": 35,
   "metadata": {
    "collapsed": true
   },
   "outputs": [],
   "source": [
    "not_presented = [\"TRBV17\", \"TRBV22-1\", \"TRBV7-1\", \"TRBV5-2\", \"TRBV8-2\", \"TRBV26\"]"
   ]
  },
  {
   "cell_type": "code",
   "execution_count": 36,
   "metadata": {
    "collapsed": true
   },
   "outputs": [],
   "source": [
    "CDR1_add = [\"SGHMF\", \"KAHSY\", \"SGHNA\", \"_\", \"_\", \"MNHVT\"]\n",
    "CDR2_add = [\"FQYQNI\", \"FQNEEL\", \"FQGKDA\", \"_\", \"_\", \"SPGTGS\"]\n",
    "\n"
   ]
  },
  {
   "cell_type": "code",
   "execution_count": 37,
   "metadata": {
    "collapsed": true
   },
   "outputs": [],
   "source": [
    "for i, gene in enumerate(not_presented):\n",
    "    CDR1_to_seq[gene] = CDR1_add[i]\n",
    "    CDR2_to_seq[gene] = CDR2_add[i]"
   ]
  },
  {
   "cell_type": "code",
   "execution_count": 38,
   "metadata": {},
   "outputs": [
    {
     "data": {
      "text/plain": [
       "64"
      ]
     },
     "execution_count": 38,
     "metadata": {},
     "output_type": "execute_result"
    }
   ],
   "source": [
    "len(CDR1_to_seq)"
   ]
  },
  {
   "cell_type": "code",
   "execution_count": 39,
   "metadata": {
    "collapsed": true
   },
   "outputs": [],
   "source": [
    "pickle.dump(CDR1_to_seq, open(\"../random_data/CDR1_dict\", 'wb'))\n",
    "pickle.dump(CDR2_to_seq, open(\"../random_data/CDR2_dict\", 'wb'))"
   ]
  },
  {
   "cell_type": "code",
   "execution_count": null,
   "metadata": {
    "collapsed": true
   },
   "outputs": [],
   "source": []
  },
  {
   "cell_type": "code",
   "execution_count": null,
   "metadata": {
    "collapsed": true
   },
   "outputs": [],
   "source": []
  }
 ],
 "metadata": {
  "kernelspec": {
   "display_name": "Python 3",
   "language": "python",
   "name": "python3"
  },
  "language_info": {
   "codemirror_mode": {
    "name": "ipython",
    "version": 3
   },
   "file_extension": ".py",
   "mimetype": "text/x-python",
   "name": "python",
   "nbconvert_exporter": "python",
   "pygments_lexer": "ipython3",
   "version": "3.6.3"
  }
 },
 "nbformat": 4,
 "nbformat_minor": 2
}
