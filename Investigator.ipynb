{
 "cells": [
  {
   "cell_type": "code",
   "execution_count": 1,
   "metadata": {
    "collapsed": true
   },
   "outputs": [],
   "source": [
    "import pandas as pd\n",
    "import numpy as np\n",
    "import matplotlib.pyplot as plt"
   ]
  },
  {
   "cell_type": "code",
   "execution_count": 2,
   "metadata": {
    "collapsed": true
   },
   "outputs": [],
   "source": [
    "from tqdm import tqdm_notebook\n",
    "import os\n",
    "\n",
    "import data_processor\n",
    "import importlib"
   ]
  },
  {
   "cell_type": "code",
   "execution_count": 3,
   "metadata": {
    "collapsed": true
   },
   "outputs": [],
   "source": [
    "import pickle"
   ]
  },
  {
   "cell_type": "code",
   "execution_count": 4,
   "metadata": {
    "collapsed": true
   },
   "outputs": [],
   "source": [
    "plt = importlib.reload(plt)"
   ]
  },
  {
   "cell_type": "markdown",
   "metadata": {},
   "source": [
    "## INITIAL PROCESSING "
   ]
  },
  {
   "cell_type": "code",
   "execution_count": 28,
   "metadata": {
    "collapsed": true
   },
   "outputs": [],
   "source": [
    "def add_CDR_1_2(table, CDR1_dict, CDR2_dict, ref_column = \"V\"):\n",
    "    table[\"CDR1\"] = [CDR1_dict[x] for x in table[ref_column]]\n",
    "    table[\"CDR2\"] = [CDR2_dict[x] for x in table[ref_column]]\n",
    "    return table[[\"CDR1\", \"CDR2\", \"CDR3aa\"]]"
   ]
  },
  {
   "cell_type": "code",
   "execution_count": 32,
   "metadata": {
    "collapsed": true
   },
   "outputs": [],
   "source": [
    "def collect_tables(path, mask_t = 0):\n",
    "    #t4_a = pd.read_table(path.format(4))\n",
    "    #t8_a = pd.read_table(path.format(8))\n",
    "    t4 = pd.read_table(path.format(4), usecols=[\"count\", \"CDR3aa\", \"V\"])\n",
    "    t8 = pd.read_table(path.format(8), usecols=[\"count\", \"CDR3aa\", \"V\"])\n",
    "    mask8 = t8[\"count\"] > mask_t\n",
    "    mask4 = t4[\"count\"] > mask_t\n",
    "    \n",
    "    t4 = t4.loc[mask4]\n",
    "    t8 = t8.loc[mask8]\n",
    "    print(t4.shape, t8.shape)\n",
    "    \n",
    "    t4_fin = add_CDR_1_2(t4, CDR1_to_seq, CDR2_to_seq)\n",
    "    t8_fin = add_CDR_1_2(t8, CDR1_to_seq, CDR2_to_seq)\n",
    "    \n",
    "    return t4_fin, t8_fin"
   ]
  },
  {
   "cell_type": "code",
   "execution_count": 25,
   "metadata": {
    "collapsed": true
   },
   "outputs": [],
   "source": [
    "CDR1_to_seq = pickle.load(open(\"../CDR1_dict\", 'rb'))\n",
    "CDR2_to_seq = pickle.load(open(\"../CDR2_dict\", 'rb'))"
   ]
  },
  {
   "cell_type": "code",
   "execution_count": 22,
   "metadata": {
    "collapsed": true
   },
   "outputs": [],
   "source": [
    "path = \"../data_all_CDR/Dv_PB_{}.txt\""
   ]
  },
  {
   "cell_type": "code",
   "execution_count": 33,
   "metadata": {},
   "outputs": [
    {
     "name": "stdout",
     "output_type": "stream",
     "text": [
      "(281196, 3) (81514, 3)\n"
     ]
    }
   ],
   "source": [
    "t4_t, t8_t = collect_tables(path)"
   ]
  },
  {
   "cell_type": "markdown",
   "metadata": {},
   "source": [
    "## TO NUMS"
   ]
  },
  {
   "cell_type": "code",
   "execution_count": 36,
   "metadata": {
    "collapsed": true
   },
   "outputs": [],
   "source": [
    "acids = ['A', 'C', 'D', 'E', 'F', 'G', 'H', 'I', 'K', 'L', 'M', 'N', 'P', 'Q', 'R', 'S', 'T', 'V', 'W', 'Y']\n",
    "\n",
    "l_to_n = dict(zip(sorted(acids), np.arange(1,len(acids) + 1)))\n",
    "\n",
    "l_to_n[\"b\"] = 21\n",
    "l_to_n[\"e\"] = 22\n",
    "l_to_n[\"_\"] = 0"
   ]
  },
  {
   "cell_type": "code",
   "execution_count": 46,
   "metadata": {
    "collapsed": true
   },
   "outputs": [],
   "source": [
    "def shape_seq(seq, l, mode='middle'):\n",
    "    if mode not in ['middle', 'beginning']:\n",
    "        raise ValueError(\"Mode should be one of middle, beginning\")\n",
    "    if mode == 'middle':\n",
    "        if len(seq) > l:\n",
    "            return seq[int((len(seq) - l)/ 2) : int((len(seq) + l) / 2)]\n",
    "        else:\n",
    "            seq2 = \"____________________\" + seq + \"____________________\"\n",
    "            return seq2[int((len(seq2) - l)/ 2) : int((len(seq2) + l) / 2)]\n",
    "    else:\n",
    "        if len(seq) > l:\n",
    "            return seq[:l]\n",
    "        else:\n",
    "            return seq + '_' * (l - len(seq))"
   ]
  },
  {
   "cell_type": "code",
   "execution_count": 47,
   "metadata": {
    "collapsed": true
   },
   "outputs": [],
   "source": [
    "def CDR_to_num_array(seq, dictionary):\n",
    "    seq_arr = np.zeros(len(seq), dtype = np.int8)\n",
    "    \n",
    "    #seq_arr[0] = dictionary[\"b\"]\n",
    "    for i, symbol in enumerate(seq):\n",
    "        seq_arr[i] = dictionary[symbol]\n",
    "    \n",
    "    return seq_arr"
   ]
  },
  {
   "cell_type": "code",
   "execution_count": 54,
   "metadata": {},
   "outputs": [
    {
     "data": {
      "text/plain": [
       "array([0, 0, 0, 0, 0, 0, 0, 0, 1, 2, 3, 5, 0, 0, 0, 0, 0, 0, 0, 0],\n",
       "      dtype=int8)"
      ]
     },
     "execution_count": 54,
     "metadata": {},
     "output_type": "execute_result"
    }
   ],
   "source": [
    "CDR_to_num_array(shape_seq(\"ACDF\", 20), l_to_n)"
   ]
  },
  {
   "cell_type": "code",
   "execution_count": 117,
   "metadata": {
    "collapsed": true
   },
   "outputs": [],
   "source": [
    "def transform_row(table, cols, l_to_n, max_lens = None, mode = 'middle'):\n",
    "    \n",
    "    if type(cols) != list:\n",
    "        cols = [cols]\n",
    "    #assert len(cols) == len(max_lens) raise ValueError(\"Should be len(cols) == len(max_lens)\")\n",
    "    #print(cols)\n",
    "    answ = {}\n",
    "    \n",
    "    for i, col in enumerate(cols):\n",
    "        if max_lens is None:\n",
    "            max_len = min(max([len(x) for x in table[col]]), 70)\n",
    "        else:\n",
    "            max_len = max_lens[i]\n",
    "\n",
    "        transformed_vals = [CDR_to_num_array(shape_seq(x, max_len, mode), l_to_n) for x in table[col]]\n",
    "    \n",
    "        answ[col] = np.vstack(transformed_vals)\n",
    "        #table.loc[:, col] = transformed_vals\n",
    "    #else:\n",
    "    #    table[col] = [CDR_to_num_array(shape_seq(x, len(x)), l_to_n, max_len) for x in table[col]]\n",
    "    return answ"
   ]
  },
  {
   "cell_type": "code",
   "execution_count": 61,
   "metadata": {
    "scrolled": true
   },
   "outputs": [],
   "source": [
    "t4_n = transform_row(t4_t, [\"CDR1\",\"CDR2\",\"CDR3aa\"], l_to_n)\n",
    "t8_n = transform_row(t8_t, [\"CDR1\",\"CDR2\",\"CDR3aa\"], l_to_n)"
   ]
  },
  {
   "cell_type": "code",
   "execution_count": 58,
   "metadata": {
    "collapsed": true
   },
   "outputs": [],
   "source": [
    "t4_n.to_csv(\"../data/Dv_PB/t4.csv\")\n",
    "t8_n.to_csv(\"../data/Dv_PB/t8.csv\")"
   ]
  },
  {
   "cell_type": "code",
   "execution_count": null,
   "metadata": {
    "collapsed": true
   },
   "outputs": [],
   "source": []
  },
  {
   "cell_type": "code",
   "execution_count": 78,
   "metadata": {
    "collapsed": true
   },
   "outputs": [],
   "source": [
    "X_0 = np.vstack((np.vstack(t4_n.values[:,0]), np.vstack(t8_n.values[:,0])))\n",
    "X_1 = np.vstack((np.vstack(t4_n.values[:,1]), np.vstack(t8_n.values[:,1])))\n",
    "X_2 = np.vstack((np.vstack(t4_n.values[:,2]), np.vstack(t8_n.values[:,2])))"
   ]
  },
  {
   "cell_type": "code",
   "execution_count": 83,
   "metadata": {
    "collapsed": true
   },
   "outputs": [],
   "source": [
    "y = np.array([0] * t4_n.shape[0] + [1] * t8_n.shape[0])"
   ]
  },
  {
   "cell_type": "code",
   "execution_count": 87,
   "metadata": {
    "collapsed": true
   },
   "outputs": [],
   "source": [
    "np.save(\"../data/Dv_PB/X_0\", X_0)\n",
    "np.save(\"../data/Dv_PB/X_1\", X_1) \n",
    "np.save(\"../data/Dv_PB/X_2\", X_2)\n",
    "np.save(\"../data/Dv_PB/y\", y)"
   ]
  },
  {
   "cell_type": "code",
   "execution_count": null,
   "metadata": {
    "collapsed": true
   },
   "outputs": [],
   "source": []
  },
  {
   "cell_type": "code",
   "execution_count": 7,
   "metadata": {
    "collapsed": true
   },
   "outputs": [],
   "source": [
    "X = [np.load(\"../data/Dv_PB/X_\"+str(i)+\".npy\") for i in range(3)]\n",
    "y = np.load(\"../data/Dv_PB/y.npy\")"
   ]
  },
  {
   "cell_type": "code",
   "execution_count": null,
   "metadata": {
    "collapsed": true
   },
   "outputs": [],
   "source": []
  },
  {
   "cell_type": "markdown",
   "metadata": {},
   "source": [
    "## Do all"
   ]
  },
  {
   "cell_type": "code",
   "execution_count": 70,
   "metadata": {
    "collapsed": true
   },
   "outputs": [],
   "source": [
    "gen_name = lambda x: x.split(\".\")[0][:-1] + \"{}.\" + x.split(\".\")[1]"
   ]
  },
  {
   "cell_type": "code",
   "execution_count": 73,
   "metadata": {
    "scrolled": true
   },
   "outputs": [
    {
     "name": "stdout",
     "output_type": "stream",
     "text": [
      "['Shep_PB_{}.txt', 'Luk_PB_{}.txt', 'Mikh_PB_{}.txt', 'Kal_PB_{}.txt', 'Dv_PB_{}.txt', 'DL_{}.txt']\n"
     ]
    }
   ],
   "source": [
    "path = \"../data_all_CDR/\"\n",
    "names = [gen_name(x) for x in os.listdir(path) if '4' in x]\n",
    "print(names)"
   ]
  },
  {
   "cell_type": "code",
   "execution_count": 74,
   "metadata": {
    "collapsed": true
   },
   "outputs": [],
   "source": [
    "out_path = \"../data/\""
   ]
  },
  {
   "cell_type": "code",
   "execution_count": 92,
   "metadata": {
    "collapsed": true
   },
   "outputs": [],
   "source": [
    "CDR1_to_seq = pickle.load(open(\"../random_data/CDR1_dict\", 'rb'))\n",
    "CDR2_to_seq = pickle.load(open(\"../random_data/CDR2_dict\", 'rb'))"
   ]
  },
  {
   "cell_type": "code",
   "execution_count": 93,
   "metadata": {},
   "outputs": [
    {
     "data": {
      "text/plain": [
       "['Shep_PB_{}.txt',\n",
       " 'Luk_PB_{}.txt',\n",
       " 'Mikh_PB_{}.txt',\n",
       " 'Kal_PB_{}.txt',\n",
       " 'Dv_PB_{}.txt',\n",
       " 'DL_{}.txt']"
      ]
     },
     "execution_count": 93,
     "metadata": {},
     "output_type": "execute_result"
    }
   ],
   "source": [
    "names"
   ]
  },
  {
   "cell_type": "code",
   "execution_count": 149,
   "metadata": {},
   "outputs": [
    {
     "data": {
      "application/vnd.jupyter.widget-view+json": {
       "model_id": "705b8763360d4c2cb0e66f71cdad37bf",
       "version_major": 2,
       "version_minor": 0
      },
      "text/plain": [
       "A Jupyter Widget"
      ]
     },
     "metadata": {},
     "output_type": "display_data"
    },
    {
     "name": "stdout",
     "output_type": "stream",
     "text": [
      "(274534, 3) (104595, 3)\n",
      "(164988, 3) (215744, 3)\n",
      "(844997, 3) (218750, 3)\n",
      "(344148, 3) (162899, 3)\n",
      "(281196, 3) (81514, 3)\n",
      "(239344, 3) (134982, 3)\n",
      "\n"
     ]
    }
   ],
   "source": [
    "results = []\n",
    "for i, f_name in enumerate(tqdm_notebook(names)):\n",
    "    t4_t, t8_t = collect_tables(path + f_name)\n",
    "    t4_n = transform_row(t4_t, [\"CDR1\",\"CDR2\",\"CDR3aa\"], l_to_n, [6,7,25])\n",
    "    t8_n = transform_row(t8_t, [\"CDR1\",\"CDR2\",\"CDR3aa\"], l_to_n, [6,7,25])\n",
    "    \n",
    "    \n",
    "    results.append(add_target_and_footprint(t4_n, t8_n, i))\n",
    "    #t4_n.to_csv(out_path + f_name.format(\"4\"))\n",
    "    #t8_n.to_csv(out_path + f_name.format(\"8\"))"
   ]
  },
  {
   "cell_type": "code",
   "execution_count": 151,
   "metadata": {},
   "outputs": [],
   "source": [
    "final = {}\n",
    "for key in ['CDR1', 'CDR2', 'CDR3aa']:\n",
    "    final[key] = np.vstack([x[key] for x in results])"
   ]
  },
  {
   "cell_type": "code",
   "execution_count": 158,
   "metadata": {},
   "outputs": [],
   "source": [
    "matcher = {}\n",
    "for i, name in enumerate(names):\n",
    "    matcher[name ] = i"
   ]
  },
  {
   "cell_type": "code",
   "execution_count": 161,
   "metadata": {},
   "outputs": [],
   "source": [
    "pickle.dump(matcher, open(\"../random_data/person_to_num\", 'wb'))"
   ]
  },
  {
   "cell_type": "code",
   "execution_count": 162,
   "metadata": {
    "collapsed": true
   },
   "outputs": [],
   "source": [
    "\n",
    "for key in ['CDR1', 'CDR2', 'CDR3aa']:\n",
    "    np.save(\"../data/\" + key, final[key])"
   ]
  },
  {
   "cell_type": "code",
   "execution_count": 163,
   "metadata": {},
   "outputs": [
    {
     "data": {
      "text/plain": [
       "(3067691, 9)"
      ]
     },
     "execution_count": 163,
     "metadata": {},
     "output_type": "execute_result"
    }
   ],
   "source": [
    "final[\"CDR2\"].shape"
   ]
  },
  {
   "cell_type": "code",
   "execution_count": 164,
   "metadata": {},
   "outputs": [
    {
     "data": {
      "text/plain": [
       "(3067691, 8)"
      ]
     },
     "execution_count": 164,
     "metadata": {},
     "output_type": "execute_result"
    }
   ],
   "source": [
    "final[\"CDR1\"].shape"
   ]
  },
  {
   "cell_type": "code",
   "execution_count": null,
   "metadata": {
    "collapsed": true
   },
   "outputs": [],
   "source": []
  },
  {
   "cell_type": "code",
   "execution_count": 165,
   "metadata": {},
   "outputs": [
    {
     "data": {
      "text/plain": [
       "(3067691, 9)"
      ]
     },
     "execution_count": 165,
     "metadata": {},
     "output_type": "execute_result"
    }
   ],
   "source": [
    "np.load(\"../data/CDR2.npy\").shape"
   ]
  },
  {
   "cell_type": "code",
   "execution_count": null,
   "metadata": {
    "collapsed": true
   },
   "outputs": [],
   "source": []
  },
  {
   "cell_type": "code",
   "execution_count": 141,
   "metadata": {},
   "outputs": [],
   "source": [
    "def add_target_and_footprint(t4, t8, footprint):\n",
    "    answ = {}\n",
    "    for key in t4.keys():\n",
    "        answ[key] = np.vstack((np.hstack((t4_n[key],\n",
    "                                          np.ones((t4_n[key].shape[0],1)) * 0,\n",
    "                                          np.ones((t4_n[key].shape[0],1)) * footprint)),\n",
    "                               np.hstack((t8_n[key],\n",
    "                                          np.ones((t8_n[key].shape[0],1)) * 1,\n",
    "                                          np.ones((t8_n[key].shape[0],1)) * footprint)))).astype(int)\n",
    "    return answ"
   ]
  },
  {
   "cell_type": "code",
   "execution_count": 142,
   "metadata": {},
   "outputs": [],
   "source": [
    "answ = add_target_and_footprint(t4_n, t8_n, 322)"
   ]
  },
  {
   "cell_type": "code",
   "execution_count": 143,
   "metadata": {},
   "outputs": [
    {
     "data": {
      "text/plain": [
       "array([[  0,  16,   6, ...,   1,   0, 322],\n",
       "       [  0,   9,   6, ...,  20,   0, 322],\n",
       "       [  0,  16,   6, ...,   1,   0, 322],\n",
       "       ...,\n",
       "       [  0,  16,   6, ...,  12,   1, 322],\n",
       "       [  0,  16,  14, ...,  11,   1, 322],\n",
       "       [  0,   9,   6, ...,  15,   1, 322]])"
      ]
     },
     "execution_count": 143,
     "metadata": {},
     "output_type": "execute_result"
    }
   ],
   "source": [
    "answ[\"CDR1\"]"
   ]
  },
  {
   "cell_type": "code",
   "execution_count": 139,
   "metadata": {},
   "outputs": [
    {
     "data": {
      "text/plain": [
       "(274534, 6, 104595, 6)"
      ]
     },
     "execution_count": 139,
     "metadata": {},
     "output_type": "execute_result"
    }
   ],
   "source": [
    " t4_n[\"CDR1\"].shape + t8_n[\"CDR1\"].shape"
   ]
  },
  {
   "cell_type": "code",
   "execution_count": null,
   "metadata": {
    "collapsed": true
   },
   "outputs": [],
   "source": []
  },
  {
   "cell_type": "markdown",
   "metadata": {},
   "source": [
    "Check"
   ]
  },
  {
   "cell_type": "code",
   "execution_count": null,
   "metadata": {
    "collapsed": true
   },
   "outputs": [],
   "source": []
  },
  {
   "cell_type": "markdown",
   "metadata": {
    "collapsed": true
   },
   "source": [
    "## Try bigrams"
   ]
  },
  {
   "cell_type": "code",
   "execution_count": 22,
   "metadata": {
    "collapsed": true
   },
   "outputs": [],
   "source": [
    "from nltk import bigrams, ngrams"
   ]
  },
  {
   "cell_type": "code",
   "execution_count": 23,
   "metadata": {
    "collapsed": true
   },
   "outputs": [],
   "source": [
    "calc_ngrams = lambda y, n : [''.join(x) for x in ngrams(y, n)]"
   ]
  },
  {
   "cell_type": "code",
   "execution_count": 27,
   "metadata": {},
   "outputs": [
    {
     "data": {
      "text/plain": [
       "'CSAPDRLSGNTEAFF'"
      ]
     },
     "execution_count": 27,
     "metadata": {},
     "output_type": "execute_result"
    }
   ],
   "source": [
    "t4_fin[\"CDR3aa\"].values[0]"
   ]
  },
  {
   "cell_type": "code",
   "execution_count": 29,
   "metadata": {},
   "outputs": [
    {
     "data": {
      "text/plain": [
       "['CSA',\n",
       " 'SAP',\n",
       " 'APD',\n",
       " 'PDR',\n",
       " 'DRL',\n",
       " 'RLS',\n",
       " 'LSG',\n",
       " 'SGN',\n",
       " 'GNT',\n",
       " 'NTE',\n",
       " 'TEA',\n",
       " 'EAF',\n",
       " 'AFF']"
      ]
     },
     "execution_count": 29,
     "metadata": {},
     "output_type": "execute_result"
    }
   ],
   "source": [
    "calc_ngrams(t4_fin[\"CDR3aa\"].values[0], 3)"
   ]
  },
  {
   "cell_type": "code",
   "execution_count": 30,
   "metadata": {
    "collapsed": true
   },
   "outputs": [],
   "source": [
    "def all_ngrams(X, n):\n",
    "    all_ngrams = dict()\n",
    "    for x in tqdm_notebook(X):\n",
    "        for ngramm in calc_ngrams(x,n):\n",
    "            if ngramm in all_ngrams.keys():\n",
    "                all_ngrams[ngramm] += 1\n",
    "            else:\n",
    "                all_ngrams[ngramm] = 1\n",
    "                \n",
    "    return all_ngrams"
   ]
  },
  {
   "cell_type": "code",
   "execution_count": null,
   "metadata": {
    "collapsed": true
   },
   "outputs": [],
   "source": [
    "def prepare_ngrams_table()"
   ]
  },
  {
   "cell_type": "code",
   "execution_count": 31,
   "metadata": {},
   "outputs": [
    {
     "data": {
      "application/vnd.jupyter.widget-view+json": {
       "model_id": "e465c5cbbc6c46f0aafa791aedf9cbc4",
       "version_major": 2,
       "version_minor": 0
      },
      "text/plain": [
       "A Jupyter Widget"
      ]
     },
     "metadata": {},
     "output_type": "display_data"
    },
    {
     "name": "stdout",
     "output_type": "stream",
     "text": [
      "\n"
     ]
    },
    {
     "data": {
      "application/vnd.jupyter.widget-view+json": {
       "model_id": "1fda09aca02a4d18815640432908f243",
       "version_major": 2,
       "version_minor": 0
      },
      "text/plain": [
       "A Jupyter Widget"
      ]
     },
     "metadata": {},
     "output_type": "display_data"
    },
    {
     "name": "stdout",
     "output_type": "stream",
     "text": [
      "\n"
     ]
    }
   ],
   "source": [
    "s4_3 = all_ngrams(t4_fin[\"CDR3aa\"].values, 3)\n",
    "s8_3 = all_ngrams(t8_fin[\"CDR3aa\"].values, 3)"
   ]
  },
  {
   "cell_type": "code",
   "execution_count": 79,
   "metadata": {
    "collapsed": true
   },
   "outputs": [],
   "source": [
    "intersection_3 = set(s4_3.keys()).intersection(set(s8_3.keys()))"
   ]
  },
  {
   "cell_type": "code",
   "execution_count": 80,
   "metadata": {
    "collapsed": true
   },
   "outputs": [],
   "source": [
    "intersection_with_counts = pd.DataFrame(columns = [4,8], index=sorted(list(intersection_3)))"
   ]
  },
  {
   "cell_type": "code",
   "execution_count": 81,
   "metadata": {},
   "outputs": [
    {
     "data": {
      "application/vnd.jupyter.widget-view+json": {
       "model_id": "d328c984ae1d4aa09db61a5c3ef28ec1",
       "version_major": 2,
       "version_minor": 0
      },
      "text/plain": [
       "A Jupyter Widget"
      ]
     },
     "metadata": {},
     "output_type": "display_data"
    },
    {
     "name": "stdout",
     "output_type": "stream",
     "text": [
      "\n"
     ]
    }
   ],
   "source": [
    "for ngramm in tqdm_notebook(sorted(list(intersection_3))):\n",
    "    intersection_with_counts.loc[ngramm, 4] = s4_3[ngramm]\n",
    "    intersection_with_counts.loc[ngramm, 8] = s8_3[ngramm]\n",
    "\n",
    "intersection_with_counts[4] = intersection_with_counts[4] / intersection_with_counts[4].sum()\n",
    "intersection_with_counts[8] = intersection_with_counts[8] / intersection_with_counts[8].sum()"
   ]
  },
  {
   "cell_type": "code",
   "execution_count": 82,
   "metadata": {
    "scrolled": true
   },
   "outputs": [
    {
     "data": {
      "text/html": [
       "<div>\n",
       "<style>\n",
       "    .dataframe thead tr:only-child th {\n",
       "        text-align: right;\n",
       "    }\n",
       "\n",
       "    .dataframe thead th {\n",
       "        text-align: left;\n",
       "    }\n",
       "\n",
       "    .dataframe tbody tr th {\n",
       "        vertical-align: top;\n",
       "    }\n",
       "</style>\n",
       "<table border=\"1\" class=\"dataframe\">\n",
       "  <thead>\n",
       "    <tr style=\"text-align: right;\">\n",
       "      <th></th>\n",
       "      <th>4</th>\n",
       "      <th>8</th>\n",
       "    </tr>\n",
       "  </thead>\n",
       "  <tbody>\n",
       "    <tr>\n",
       "      <th>AAA</th>\n",
       "      <td>9.69869e-05</td>\n",
       "      <td>6.27115e-05</td>\n",
       "    </tr>\n",
       "    <tr>\n",
       "      <th>AAD</th>\n",
       "      <td>0.00013266</td>\n",
       "      <td>0.000135457</td>\n",
       "    </tr>\n",
       "    <tr>\n",
       "      <th>AAE</th>\n",
       "      <td>9.25278e-05</td>\n",
       "      <td>9.03046e-05</td>\n",
       "    </tr>\n",
       "    <tr>\n",
       "      <th>AAF</th>\n",
       "      <td>4.79361e-05</td>\n",
       "      <td>3.261e-05</td>\n",
       "    </tr>\n",
       "    <tr>\n",
       "      <th>AAG</th>\n",
       "      <td>0.000381259</td>\n",
       "      <td>0.000401354</td>\n",
       "    </tr>\n",
       "  </tbody>\n",
       "</table>\n",
       "</div>"
      ],
      "text/plain": [
       "               4            8\n",
       "AAA  9.69869e-05  6.27115e-05\n",
       "AAD   0.00013266  0.000135457\n",
       "AAE  9.25278e-05  9.03046e-05\n",
       "AAF  4.79361e-05    3.261e-05\n",
       "AAG  0.000381259  0.000401354"
      ]
     },
     "execution_count": 82,
     "metadata": {},
     "output_type": "execute_result"
    }
   ],
   "source": [
    "intersection_with_counts.head()"
   ]
  },
  {
   "cell_type": "code",
   "execution_count": 46,
   "metadata": {
    "collapsed": true
   },
   "outputs": [],
   "source": [
    "from functools import reduce"
   ]
  },
  {
   "cell_type": "code",
   "execution_count": 54,
   "metadata": {},
   "outputs": [
    {
     "data": {
      "text/plain": [
       "array([9.69869391e-05, 1.32660296e-04, 9.25277695e-05, ...,\n",
       "       2.00662633e-05, 1.22627164e-05, 1.11479240e-06])"
      ]
     },
     "execution_count": 54,
     "metadata": {},
     "output_type": "execute_result"
    }
   ],
   "source": [
    "intersection_with_counts[4].values.astype(float)"
   ]
  },
  {
   "cell_type": "code",
   "execution_count": 62,
   "metadata": {
    "collapsed": true
   },
   "outputs": [],
   "source": [
    "cs_4 = np.cumsum(intersection_with_counts[4].values)\n",
    "cs_8 = np.cumsum(intersection_with_counts[8].values)"
   ]
  },
  {
   "cell_type": "code",
   "execution_count": 66,
   "metadata": {
    "collapsed": true
   },
   "outputs": [],
   "source": [
    "D = max([np.abs(x) for x in cs_4 - cs_8])"
   ]
  },
  {
   "cell_type": "code",
   "execution_count": 73,
   "metadata": {},
   "outputs": [
    {
     "data": {
      "text/plain": [
       "1.5980843547730937e-107"
      ]
     },
     "execution_count": 73,
     "metadata": {},
     "output_type": "execute_result"
    }
   ],
   "source": [
    "distributions.kstwobign.sf(D*np.sqrt(sum([len(x) for x in t4_fin['CDR3aa'].values])))"
   ]
  },
  {
   "cell_type": "code",
   "execution_count": 72,
   "metadata": {},
   "outputs": [
    {
     "data": {
      "text/plain": [
       "1044075"
      ]
     },
     "execution_count": 72,
     "metadata": {},
     "output_type": "execute_result"
    }
   ],
   "source": [
    "sum([len(x) for x in t4_fin['CDR3aa'].values])"
   ]
  },
  {
   "cell_type": "code",
   "execution_count": null,
   "metadata": {
    "collapsed": true
   },
   "outputs": [],
   "source": []
  },
  {
   "cell_type": "code",
   "execution_count": 65,
   "metadata": {
    "collapsed": true
   },
   "outputs": [],
   "source": [
    "from scipy.stats import ks_2samp,distributions"
   ]
  },
  {
   "cell_type": "code",
   "execution_count": 45,
   "metadata": {},
   "outputs": [
    {
     "data": {
      "text/plain": [
       "Ks_2sampResult(statistic=0.09056860742254001, pvalue=1.9111478459068184e-21)"
      ]
     },
     "execution_count": 45,
     "metadata": {},
     "output_type": "execute_result"
    }
   ],
   "source": [
    "ks_2samp(intersection_with_counts[4].values, intersection_with_counts[8])"
   ]
  },
  {
   "cell_type": "code",
   "execution_count": null,
   "metadata": {
    "collapsed": true
   },
   "outputs": [],
   "source": []
  },
  {
   "cell_type": "code",
   "execution_count": null,
   "metadata": {
    "collapsed": true
   },
   "outputs": [],
   "source": []
  },
  {
   "cell_type": "code",
   "execution_count": 66,
   "metadata": {},
   "outputs": [
    {
     "name": "stdout",
     "output_type": "stream",
     "text": [
      "c 164\n"
     ]
    }
   ],
   "source": [
    "counter = 0\n",
    "for trig in s8_3.keys():\n",
    "    if not trig in intersection_3:\n",
    "        counter += s8_3[trig]\n",
    "print(\"c\", counter)"
   ]
  },
  {
   "cell_type": "code",
   "execution_count": 71,
   "metadata": {
    "collapsed": true
   },
   "outputs": [],
   "source": [
    "intersection_with_counts[4] = intersection_with_counts[4] / intersection_with_counts[4].sum()\n",
    "intersection_with_counts[8] = intersection_with_counts[8] / intersection_with_counts[8].sum()"
   ]
  },
  {
   "cell_type": "code",
   "execution_count": 119,
   "metadata": {
    "collapsed": true
   },
   "outputs": [],
   "source": [
    "def plot_bar_part(table, start, end):\n",
    "    #with plt.xkcd():\n",
    "    plt.figure(figsize=(12, 4))\n",
    "    # = table.index.values[start:end]\n",
    "    #print(plt.xticks)\n",
    "    plt.bar(np.arange(end-start), table[start:end][4], alpha = 0.5)\n",
    "    plt.bar(np.arange(end-start), table[start:end][8],  alpha = 0.5)\n",
    "    plt.xticks = []\n",
    "    plt.show()"
   ]
  },
  {
   "cell_type": "code",
   "execution_count": 128,
   "metadata": {
    "scrolled": true
   },
   "outputs": [
    {
     "data": {
      "image/png": "[encoded data removed]",
      "text/plain": [
       "<matplotlib.figure.Figure at 0x7f08304f99b0>"
      ]
     },
     "metadata": {},
     "output_type": "display_data"
    }
   ],
   "source": [
    "plot_bar_part(intersection_with_counts, 100, 200)"
   ]
  },
  {
   "cell_type": "code",
   "execution_count": 127,
   "metadata": {},
   "outputs": [
    {
     "data": {
      "text/plain": [
       "array([ 378,  284, 3975, 3742, 1003, 4624, 3117, 4940, 1017, 5749, 2606,\n",
       "        727,   68,  790, 5655,  413, 4627,  934, 4749, 1461, 1068, 1771,\n",
       "       4789, 5830, 4745, 4628, 4630,  429, 2548,  379, 3775, 3556, 4505,\n",
       "       3868, 4619, 4703,  304, 4634, 4352, 5690, 3287, 4964,  283, 4620,\n",
       "       1703, 1566,   87, 4695, 3243, 4629, 1646, 4501, 3735, 1619,  285,\n",
       "       4562, 4438, 3289, 4618,  495, 4566, 4439,  274, 3987, 1713, 4636,\n",
       "       1495, 2394,  370, 4440, 4791, 4657, 4631,  921, 1465, 4961, 1606,\n",
       "       4429, 4517, 1506, 1505, 2644, 3486, 4503, 4515, 4840, 1698, 2626,\n",
       "       4632, 2265,   85, 4502, 1418, 1701,  681, 4600, 4581,  134,  251,\n",
       "       4578])"
      ]
     },
     "execution_count": 127,
     "metadata": {},
     "output_type": "execute_result"
    }
   ],
   "source": [
    "np.argsort(intersection_with_counts.values.sum(1))[::-1][:100]"
   ]
  },
  {
   "cell_type": "code",
   "execution_count": null,
   "metadata": {
    "collapsed": true
   },
   "outputs": [],
   "source": [
    "intersection_with_counts[i]"
   ]
  },
  {
   "cell_type": "code",
   "execution_count": null,
   "metadata": {
    "collapsed": true
   },
   "outputs": [],
   "source": []
  },
  {
   "cell_type": "code",
   "execution_count": 110,
   "metadata": {},
   "outputs": [
    {
     "data": {
      "application/vnd.jupyter.widget-view+json": {
       "model_id": "38b6e55420c54e0193dee5f1db766894",
       "version_major": 2,
       "version_minor": 0
      },
      "text/plain": [
       "A Jupyter Widget"
      ]
     },
     "metadata": {},
     "output_type": "display_data"
    },
    {
     "data": {
      "application/vnd.jupyter.widget-view+json": {
       "model_id": "933a4aff252a414dbb7763a5eb3db401",
       "version_major": 2,
       "version_minor": 0
      },
      "text/plain": [
       "A Jupyter Widget"
      ]
     },
     "metadata": {},
     "output_type": "display_data"
    }
   ],
   "source": [
    "s4_1 = all_ngrams(t4[\"aaSeqCDR3\"].values, 1)\n",
    "s8_1 = all_ngrams(t8[\"aaSeqCDR3\"].values, 1)"
   ]
  },
  {
   "cell_type": "code",
   "execution_count": 112,
   "metadata": {
    "collapsed": true
   },
   "outputs": [],
   "source": [
    "s1 = set(s4_1.keys()).union(set(s8_1.keys()))"
   ]
  },
  {
   "cell_type": "code",
   "execution_count": 113,
   "metadata": {
    "collapsed": true
   },
   "outputs": [],
   "source": [
    "d1 = dict(zip(sorted(list(s1)), range(len(s1))))"
   ]
  },
  {
   "cell_type": "code",
   "execution_count": 114,
   "metadata": {},
   "outputs": [
    {
     "data": {
      "text/plain": [
       "{'A': 0,\n",
       " 'C': 1,\n",
       " 'D': 2,\n",
       " 'E': 3,\n",
       " 'F': 4,\n",
       " 'G': 5,\n",
       " 'H': 6,\n",
       " 'I': 7,\n",
       " 'K': 8,\n",
       " 'L': 9,\n",
       " 'M': 10,\n",
       " 'N': 11,\n",
       " 'P': 12,\n",
       " 'Q': 13,\n",
       " 'R': 14,\n",
       " 'S': 15,\n",
       " 'T': 16,\n",
       " 'V': 17,\n",
       " 'W': 18,\n",
       " 'Y': 19}"
      ]
     },
     "execution_count": 114,
     "metadata": {},
     "output_type": "execute_result"
    }
   ],
   "source": [
    "d1"
   ]
  },
  {
   "cell_type": "code",
   "execution_count": null,
   "metadata": {
    "collapsed": true
   },
   "outputs": [],
   "source": []
  },
  {
   "cell_type": "code",
   "execution_count": null,
   "metadata": {
    "collapsed": true
   },
   "outputs": [],
   "source": []
  },
  {
   "cell_type": "markdown",
   "metadata": {},
   "source": [
    "## LEGACY"
   ]
  },
  {
   "cell_type": "code",
   "execution_count": 88,
   "metadata": {},
   "outputs": [
    {
     "data": {
      "text/plain": [
       "23"
      ]
     },
     "execution_count": 88,
     "metadata": {},
     "output_type": "execute_result"
    }
   ],
   "source": [
    "len(l_to_n)"
   ]
  },
  {
   "cell_type": "code",
   "execution_count": null,
   "metadata": {
    "collapsed": true
   },
   "outputs": [],
   "source": []
  },
  {
   "cell_type": "code",
   "execution_count": 52,
   "metadata": {
    "collapsed": true
   },
   "outputs": [],
   "source": [
    "genes_4 = dict(t4_a[\"V\"].value_counts() / t4_a[\"V\"].value_counts().sum())\n",
    "genes_8 = dict(t8_a[\"V\"].value_counts() /t8_a[\"V\"].value_counts().sum())"
   ]
  },
  {
   "cell_type": "code",
   "execution_count": 58,
   "metadata": {
    "collapsed": true
   },
   "outputs": [],
   "source": [
    "genes = sorted(list((set(genes_4.keys()).intersection(set(genes_8.keys())))))"
   ]
  },
  {
   "cell_type": "code",
   "execution_count": 61,
   "metadata": {},
   "outputs": [
    {
     "data": {
      "image/png": "[encoded data removed]",
      "text/plain": [
       "<matplotlib.figure.Figure at 0x7fdc034efe80>"
      ]
     },
     "metadata": {},
     "output_type": "display_data"
    }
   ],
   "source": [
    "plt.plot([genes_4[x] for x in genes])\n",
    "plt.plot([genes_8[x] for x in genes])\n",
    "plt.show()"
   ]
  },
  {
   "cell_type": "code",
   "execution_count": 44,
   "metadata": {},
   "outputs": [
    {
     "data": {
      "text/html": [
       "<div>\n",
       "<style>\n",
       "    .dataframe thead tr:only-child th {\n",
       "        text-align: right;\n",
       "    }\n",
       "\n",
       "    .dataframe thead th {\n",
       "        text-align: left;\n",
       "    }\n",
       "\n",
       "    .dataframe tbody tr th {\n",
       "        vertical-align: top;\n",
       "    }\n",
       "</style>\n",
       "<table border=\"1\" class=\"dataframe\">\n",
       "  <thead>\n",
       "    <tr style=\"text-align: right;\">\n",
       "      <th></th>\n",
       "      <th>count</th>\n",
       "      <th>frequency</th>\n",
       "      <th>CDR3nt</th>\n",
       "      <th>CDR3aa</th>\n",
       "      <th>V</th>\n",
       "      <th>D</th>\n",
       "      <th>J</th>\n",
       "      <th>Vend</th>\n",
       "      <th>Dstart</th>\n",
       "      <th>Dend</th>\n",
       "      <th>Jstart</th>\n",
       "    </tr>\n",
       "  </thead>\n",
       "  <tbody>\n",
       "    <tr>\n",
       "      <th>0</th>\n",
       "      <td>47632</td>\n",
       "      <td>0.123259</td>\n",
       "      <td>TGCGCCAGCAGTCAGGACGATAATTCACCCCTCCACTTT</td>\n",
       "      <td>CASSQDDNSPLHF</td>\n",
       "      <td>TRBV5-1</td>\n",
       "      <td>NaN</td>\n",
       "      <td>TRBJ1-6</td>\n",
       "      <td>11</td>\n",
       "      <td>-1</td>\n",
       "      <td>-1</td>\n",
       "      <td>19</td>\n",
       "    </tr>\n",
       "    <tr>\n",
       "      <th>1</th>\n",
       "      <td>12540</td>\n",
       "      <td>0.032450</td>\n",
       "      <td>TGTGCCAGCTCACCACCGCAGGGTGGGGCCTACAATGAGCAGTTCTTC</td>\n",
       "      <td>CASSPPQGGAYNEQFF</td>\n",
       "      <td>TRBV18</td>\n",
       "      <td>TRBD1</td>\n",
       "      <td>TRBJ2-1</td>\n",
       "      <td>17</td>\n",
       "      <td>18</td>\n",
       "      <td>23</td>\n",
       "      <td>28</td>\n",
       "    </tr>\n",
       "    <tr>\n",
       "      <th>2</th>\n",
       "      <td>10728</td>\n",
       "      <td>0.027761</td>\n",
       "      <td>TGTGCCAGCAGCCCCCACCGCCAACGGGCTTTCTTT</td>\n",
       "      <td>CASSPHRQRAFF</td>\n",
       "      <td>TRBV14</td>\n",
       "      <td>NaN</td>\n",
       "      <td>TRBJ1-1</td>\n",
       "      <td>13</td>\n",
       "      <td>-1</td>\n",
       "      <td>-1</td>\n",
       "      <td>27</td>\n",
       "    </tr>\n",
       "    <tr>\n",
       "      <th>3</th>\n",
       "      <td>7925</td>\n",
       "      <td>0.020508</td>\n",
       "      <td>TGTGCCACCAGTGATTTGGACAGCTCCTACAATGAGCAGTTCTTC</td>\n",
       "      <td>CATSDLDSSYNEQFF</td>\n",
       "      <td>TRBV24-1</td>\n",
       "      <td>NaN</td>\n",
       "      <td>TRBJ2-1</td>\n",
       "      <td>18</td>\n",
       "      <td>-1</td>\n",
       "      <td>-1</td>\n",
       "      <td>21</td>\n",
       "    </tr>\n",
       "    <tr>\n",
       "      <th>4</th>\n",
       "      <td>7850</td>\n",
       "      <td>0.020314</td>\n",
       "      <td>TGCAGCGTTGAAGGCGGCACTATCTACGAGCAGTACTTC</td>\n",
       "      <td>CSVEGGTIYEQYF</td>\n",
       "      <td>TRBV29-1</td>\n",
       "      <td>TRBD2</td>\n",
       "      <td>TRBJ2-7</td>\n",
       "      <td>13</td>\n",
       "      <td>14</td>\n",
       "      <td>22</td>\n",
       "      <td>23</td>\n",
       "    </tr>\n",
       "  </tbody>\n",
       "</table>\n",
       "</div>"
      ],
      "text/plain": [
       "   count  frequency                                            CDR3nt  \\\n",
       "0  47632   0.123259           TGCGCCAGCAGTCAGGACGATAATTCACCCCTCCACTTT   \n",
       "1  12540   0.032450  TGTGCCAGCTCACCACCGCAGGGTGGGGCCTACAATGAGCAGTTCTTC   \n",
       "2  10728   0.027761              TGTGCCAGCAGCCCCCACCGCCAACGGGCTTTCTTT   \n",
       "3   7925   0.020508     TGTGCCACCAGTGATTTGGACAGCTCCTACAATGAGCAGTTCTTC   \n",
       "4   7850   0.020314           TGCAGCGTTGAAGGCGGCACTATCTACGAGCAGTACTTC   \n",
       "\n",
       "             CDR3aa         V      D        J  Vend  Dstart  Dend  Jstart  \n",
       "0     CASSQDDNSPLHF   TRBV5-1    NaN  TRBJ1-6    11      -1    -1      19  \n",
       "1  CASSPPQGGAYNEQFF    TRBV18  TRBD1  TRBJ2-1    17      18    23      28  \n",
       "2      CASSPHRQRAFF    TRBV14    NaN  TRBJ1-1    13      -1    -1      27  \n",
       "3   CATSDLDSSYNEQFF  TRBV24-1    NaN  TRBJ2-1    18      -1    -1      21  \n",
       "4     CSVEGGTIYEQYF  TRBV29-1  TRBD2  TRBJ2-7    13      14    22      23  "
      ]
     },
     "execution_count": 44,
     "metadata": {},
     "output_type": "execute_result"
    }
   ],
   "source": [
    "t4_a.head()\n",
    "t8_a.head()"
   ]
  },
  {
   "cell_type": "code",
   "execution_count": 12,
   "metadata": {},
   "outputs": [
    {
     "data": {
      "text/plain": [
       "(344148, 2)"
      ]
     },
     "execution_count": 12,
     "metadata": {},
     "output_type": "execute_result"
    }
   ],
   "source": [
    "t4.shape"
   ]
  },
  {
   "cell_type": "code",
   "execution_count": 13,
   "metadata": {
    "collapsed": true
   },
   "outputs": [],
   "source": [
    "intersection = (set(t4[\"CDR3nt\"].values).intersection(t8[\"CDR3nt\"].values))"
   ]
  },
  {
   "cell_type": "code",
   "execution_count": 54,
   "metadata": {
    "collapsed": true
   },
   "outputs": [],
   "source": [
    "def to_seq_arrays(table_4, table_8, target_column):\n",
    "    intersection = (set(table_4[target_column].values).intersection(table_8[target_column].values))\n",
    "    \n",
    "    table_4_filtred = [x for x in table_4[target_column].values if not x in intersection]\n",
    "    table_8_filtred = [x for x in table_8[target_column].values if not x in intersection]\n",
    "    \n",
    "    table_4_intersection = np.concatenate([x.reshape(1, -1) for x in table_4.values if x[1] in intersection])\n",
    "    table_8_intersection = np.concatenate([x.reshape(1, -1) for x in table_8.values if x[1] in intersection])\n",
    "\n",
    "\n",
    "    print(table_4_intersection.shape)\n",
    "    for el in tqdm_notebook(intersection):\n",
    "        #print(table_4_intersection[:,2])\n",
    "        #print(np.where(table_4_intersection[:,2] == el))\n",
    "        #print(table_4_intersection[np.where(table_4_intersection[:,2] == el)[0]])\n",
    "        i4 = np.array(np.where(table_4_intersection[:,1] == el)[0])\n",
    "        i8 = np.array(np.where(table_8_intersection[:,1] == el)[0])\n",
    "\n",
    "        if table_4_intersection[i4,0].sum() > table_8_intersection[i8,0].sum():\n",
    "            table_4_filtred.append(el)\n",
    "        else:\n",
    "            table_8_filtred.append(el)\n",
    "            \n",
    "    return table_4_filtred, table_8_filtred"
   ]
  },
  {
   "cell_type": "code",
   "execution_count": 55,
   "metadata": {},
   "outputs": [
    {
     "name": "stdout",
     "output_type": "stream",
     "text": [
      "(12333, 2)\n"
     ]
    },
    {
     "data": {
      "application/vnd.jupyter.widget-view+json": {
       "model_id": "504e683119cd4f4b8166977da45d4e0e",
       "version_major": 2,
       "version_minor": 0
      },
      "text/plain": [
       "A Jupyter Widget"
      ]
     },
     "metadata": {},
     "output_type": "display_data"
    },
    {
     "name": "stdout",
     "output_type": "stream",
     "text": [
      "\n"
     ]
    }
   ],
   "source": [
    "t4_f, t8_f = to_seq_arrays(t4, t8, \"CDR3aa\")"
   ]
  },
  {
   "cell_type": "code",
   "execution_count": 29,
   "metadata": {},
   "outputs": [
    {
     "data": {
      "text/plain": [
       "342111"
      ]
     },
     "execution_count": 29,
     "metadata": {},
     "output_type": "execute_result"
    }
   ],
   "source": []
  },
  {
   "cell_type": "code",
   "execution_count": 87,
   "metadata": {},
   "outputs": [
    {
     "data": {
      "text/plain": [
       "set()"
      ]
     },
     "execution_count": 87,
     "metadata": {},
     "output_type": "execute_result"
    }
   ],
   "source": [
    "set(t4_f).intersection(set(t8_f))"
   ]
  },
  {
   "cell_type": "code",
   "execution_count": 89,
   "metadata": {
    "collapsed": true
   },
   "outputs": [],
   "source": [
    "np.save(\"../data/LY/unique_CDR3_4\", np.array(t4_f))\n",
    "np.save(\"../data/LY/unique_CDR3_8\", np.array(t8_f))"
   ]
  },
  {
   "cell_type": "code",
   "execution_count": 56,
   "metadata": {
    "collapsed": true
   },
   "outputs": [],
   "source": [
    "y_f = np.array([0] * len(t4_f) + [1] * len(t8_f))\n",
    "t_f = t4_f + t8_f"
   ]
  },
  {
   "cell_type": "code",
   "execution_count": null,
   "metadata": {
    "collapsed": true
   },
   "outputs": [],
   "source": []
  },
  {
   "cell_type": "code",
   "execution_count": 40,
   "metadata": {},
   "outputs": [
    {
     "data": {
      "application/vnd.jupyter.widget-view+json": {
       "model_id": "a38ffbbf70e143dba7d0c578dcb458c5",
       "version_major": 2,
       "version_minor": 0
      },
      "text/plain": [
       "A Jupyter Widget"
      ]
     },
     "metadata": {},
     "output_type": "display_data"
    },
    {
     "name": "stdout",
     "output_type": "stream",
     "text": [
      "\n"
     ]
    }
   ],
   "source": [
    "RNN_data_as_list = [CDR_to_num_array(x, l_to_n, max_len) for x in tqdm_notebook(t_f)]"
   ]
  },
  {
   "cell_type": "code",
   "execution_count": 41,
   "metadata": {
    "collapsed": true
   },
   "outputs": [],
   "source": [
    "RNN_data = np.concatenate([x.reshape(1,-1) for x in RNN_data_as_list])"
   ]
  },
  {
   "cell_type": "code",
   "execution_count": 42,
   "metadata": {
    "collapsed": true
   },
   "outputs": [],
   "source": [
    "np.save(\"../data/Kal_all_CDR/RNN_data_filtred\", RNN_data)\n",
    "np.save(\"../data/Kal_all_CDR//RNN_data_filtred_y\", np.array(y_f))"
   ]
  },
  {
   "cell_type": "code",
   "execution_count": 43,
   "metadata": {},
   "outputs": [
    {
     "data": {
      "text/plain": [
       "504191"
      ]
     },
     "execution_count": 43,
     "metadata": {},
     "output_type": "execute_result"
    }
   ],
   "source": [
    "len(y_f)"
   ]
  },
  {
   "cell_type": "code",
   "execution_count": 131,
   "metadata": {},
   "outputs": [
    {
     "data": {
      "text/plain": [
       "(622947, 26)"
      ]
     },
     "execution_count": 131,
     "metadata": {},
     "output_type": "execute_result"
    }
   ],
   "source": [
    "RNN_data.shape"
   ]
  },
  {
   "cell_type": "code",
   "execution_count": 47,
   "metadata": {
    "collapsed": true
   },
   "outputs": [],
   "source": [
    "import pickle"
   ]
  },
  {
   "cell_type": "code",
   "execution_count": 48,
   "metadata": {
    "collapsed": true
   },
   "outputs": [],
   "source": [
    "pickle.dump(l_to_n, open(\"../data/Kal_all_CDR/l_to_n\", \"wb\"))"
   ]
  },
  {
   "cell_type": "code",
   "execution_count": 45,
   "metadata": {},
   "outputs": [
    {
     "data": {
      "text/plain": [
       "504191"
      ]
     },
     "execution_count": 45,
     "metadata": {},
     "output_type": "execute_result"
    }
   ],
   "source": [
    "len((t_f))"
   ]
  },
  {
   "cell_type": "markdown",
   "metadata": {},
   "source": [
    "## Emb"
   ]
  },
  {
   "cell_type": "code",
   "execution_count": 33,
   "metadata": {
    "collapsed": true
   },
   "outputs": [],
   "source": [
    "kidera = pd.DataFrame(list(map(lambda x: x.split(\",\"), \"A,-1.56,-1.67,-0.97,-0.27,-0.93,-0.78,-0.2,-0.08,0.21,-0.48;R,0.22,1.27,1.37,1.87,-1.7,0.46,0.92,-0.39,0.23,0.93;N,1.14,-0.07,-0.12,0.81,0.18,0.37,-0.09,1.23,1.1,-1.73;D,0.58,-0.22,-1.58,0.81,-0.92,0.15,-1.52,0.47,0.76,0.7;C,0.12,-0.89,0.45,-1.05,-0.71,2.41,1.52,-0.69,1.13,1.1;Q,-0.47,0.24,0.07,1.1,1.1,0.59,0.84,-0.71,-0.03,-2.33;E,-1.45,0.19,-1.61,1.17,-1.31,0.4,0.04,0.38,-0.35,-0.12;G,1.46,-1.96,-0.23,-0.16,0.1,-0.11,1.32,2.36,-1.66,0.46;H,-0.41,0.52,-0.28,0.28,1.61,1.01,-1.85,0.47,1.13,1.63;I,-0.73,-0.16,1.79,-0.77,-0.54,0.03,-0.83,0.51,0.66,-1.78;L,-1.04,0,-0.24,-1.1,-0.55,-2.05,0.96,-0.76,0.45,0.93;K,-0.34,0.82,-0.23,1.7,1.54,-1.62,1.15,-0.08,-0.48,0.6;M,-1.4,0.18,-0.42,-0.73,2,1.52,0.26,0.11,-1.27,0.27;F,-0.21,0.98,-0.36,-1.43,0.22,-0.81,0.67,1.1,1.71,-0.44;P,2.06,-0.33,-1.15,-0.75,0.88,-0.45,0.3,-2.3,0.74,-0.28;S,0.81,-1.08,0.16,0.42,-0.21,-0.43,-1.89,-1.15,-0.97,-0.23;T,0.26,-0.7,1.21,0.63,-0.1,0.21,0.24,-1.15,-0.56,0.19;W,0.3,2.1,-0.72,-1.57,-1.16,0.57,-0.48,-0.4,-2.3,-0.6;Y,1.38,1.48,0.8,-0.56,0,-0.68,-0.31,1.03,-0.05,0.53;V,-0.74,-0.71,2.04,-0.4,0.5,-0.81,-1.07,0.06,-0.46,0.65\".split(\";\"))), index=[\"A\",\"R\",\"N\",\"D\",\"C\",\"Q\",\"E\",\"G\",\"H\",\"I\",\"L\",\"K\",\"M\",\"F\",\"P\",\"S\",\"T\",\"W\",\"Y\",\"V\"], columns=[\"aminoacid\"] + list(map(lambda x: \"f\"+str(x), range(1,11))))"
   ]
  },
  {
   "cell_type": "code",
   "execution_count": 145,
   "metadata": {
    "collapsed": true
   },
   "outputs": [],
   "source": [
    "kidera.to_csv(\"../data/kidera\")"
   ]
  },
  {
   "cell_type": "code",
   "execution_count": 117,
   "metadata": {
    "collapsed": true
   },
   "outputs": [],
   "source": [
    "atchley_list = list(map(lambda x: x.split(\"\\t\"),open(\"../kidera-atchley/atchley.txt\", encoding='utf-8').read().split(\"\\n\")))[:-1]"
   ]
  },
  {
   "cell_type": "code",
   "execution_count": 118,
   "metadata": {},
   "outputs": [
    {
     "data": {
      "text/plain": [
       "[['amino.acid', 'f1', 'f2', 'f3', 'f4', 'f5'],\n",
       " ['A', '−0.591', '−1.302', '−0.733', '1.570', '−0.146'],\n",
       " ['C', '−1.343', '0.465', '−0.862', '−1.020', '−0.255'],\n",
       " ['D', '1.050', '0.302', '−3.656', '−0.259', '−3.242'],\n",
       " ['E', '1.357', '−1.453', '1.477', '0.113', '−0.837'],\n",
       " ['F', '−1.006', '−0.590', '1.891', '−0.397', '0.412'],\n",
       " ['G', '−0.384', '1.652', '1.330', '1.045', '2.064'],\n",
       " ['H', '0.336', '−0.417', '−1.673', '−1.474', '−0.078'],\n",
       " ['I', '−1.239', '−0.547', '2.131', '0.393', '0.816'],\n",
       " ['K', '1.831', '−0.561', '0.533', '−0.277', '1.648'],\n",
       " ['L', '−1.019', '−0.987', '−1.505', '1.266', '−0.912'],\n",
       " ['M', '−0.663', '−1.524', '2.219', '−1.005', '1.212'],\n",
       " ['N', '0.945', '0.828', '1.299', '−0.169', '0.933'],\n",
       " ['P', '0.189', '2.081', '−1.628', '0.421', '−1.392'],\n",
       " ['Q', '0.931', '−0.179', '−3.005', '−0.503', '−1.853'],\n",
       " ['R', '1.538', '−0.055', '1.502', '0.440', '2.897'],\n",
       " ['S', '−0.228', '1.399', '−4.760', '0.670', '−2.647'],\n",
       " ['T', '−0.032', '0.326', '2.213', '0.908', '1.313'],\n",
       " ['V', '−1.337', '−0.279', '−0.544', '1.242', '−1.262'],\n",
       " ['W', '−0.595', '0.009', '0.672', '−2.128', '−0.184'],\n",
       " ['Y', '0.260', '0.830', '3.097', '−0.838', '1.512']]"
      ]
     },
     "execution_count": 118,
     "metadata": {},
     "output_type": "execute_result"
    }
   ],
   "source": [
    "atchley_list"
   ]
  },
  {
   "cell_type": "code",
   "execution_count": 124,
   "metadata": {},
   "outputs": [
    {
     "data": {
      "text/plain": [
       "0.595"
      ]
     },
     "execution_count": 124,
     "metadata": {},
     "output_type": "execute_result"
    }
   ],
   "source": [
    "bad_float_processor('0.595')"
   ]
  },
  {
   "cell_type": "code",
   "execution_count": 84,
   "metadata": {
    "collapsed": true
   },
   "outputs": [],
   "source": [
    "atchley = pd.DataFrame(data = atchley_list[1:], columns = atchley_list[0])#, index=sorted([\"A\",\"R\",\"N\",\"D\",\"C\",\"Q\",\"E\",\"G\",\"H\",\"I\",\"L\",\"K\",\"M\",\"F\",\"P\",\"S\",\"T\",\"W\",\"Y\",\"V\"])#, columns=[\"aminoacid\"] + list(map(lambda x: \"f\"+str(x), range(1,11))))"
   ]
  },
  {
   "cell_type": "code",
   "execution_count": 86,
   "metadata": {},
   "outputs": [
    {
     "data": {
      "text/html": [
       "<div>\n",
       "<style>\n",
       "    .dataframe thead tr:only-child th {\n",
       "        text-align: right;\n",
       "    }\n",
       "\n",
       "    .dataframe thead th {\n",
       "        text-align: left;\n",
       "    }\n",
       "\n",
       "    .dataframe tbody tr th {\n",
       "        vertical-align: top;\n",
       "    }\n",
       "</style>\n",
       "<table border=\"1\" class=\"dataframe\">\n",
       "  <thead>\n",
       "    <tr style=\"text-align: right;\">\n",
       "      <th></th>\n",
       "      <th>amino.acid</th>\n",
       "      <th>f1</th>\n",
       "      <th>f2</th>\n",
       "      <th>f3</th>\n",
       "      <th>f4</th>\n",
       "      <th>f5</th>\n",
       "    </tr>\n",
       "  </thead>\n",
       "  <tbody>\n",
       "    <tr>\n",
       "      <th>0</th>\n",
       "      <td>A</td>\n",
       "      <td>−0.591</td>\n",
       "      <td>−1.302</td>\n",
       "      <td>−0.733</td>\n",
       "      <td>1.570</td>\n",
       "      <td>−0.146</td>\n",
       "    </tr>\n",
       "    <tr>\n",
       "      <th>1</th>\n",
       "      <td>C</td>\n",
       "      <td>−1.343</td>\n",
       "      <td>0.465</td>\n",
       "      <td>−0.862</td>\n",
       "      <td>−1.020</td>\n",
       "      <td>−0.255</td>\n",
       "    </tr>\n",
       "    <tr>\n",
       "      <th>2</th>\n",
       "      <td>D</td>\n",
       "      <td>1.050</td>\n",
       "      <td>0.302</td>\n",
       "      <td>−3.656</td>\n",
       "      <td>−0.259</td>\n",
       "      <td>−3.242</td>\n",
       "    </tr>\n",
       "    <tr>\n",
       "      <th>3</th>\n",
       "      <td>E</td>\n",
       "      <td>1.357</td>\n",
       "      <td>−1.453</td>\n",
       "      <td>1.477</td>\n",
       "      <td>0.113</td>\n",
       "      <td>−0.837</td>\n",
       "    </tr>\n",
       "    <tr>\n",
       "      <th>4</th>\n",
       "      <td>F</td>\n",
       "      <td>−1.006</td>\n",
       "      <td>−0.590</td>\n",
       "      <td>1.891</td>\n",
       "      <td>−0.397</td>\n",
       "      <td>0.412</td>\n",
       "    </tr>\n",
       "  </tbody>\n",
       "</table>\n",
       "</div>"
      ],
      "text/plain": [
       "  amino.acid      f1      f2      f3      f4      f5\n",
       "0          A  −0.591  −1.302  −0.733   1.570  −0.146\n",
       "1          C  −1.343   0.465  −0.862  −1.020  −0.255\n",
       "2          D   1.050   0.302  −3.656  −0.259  −3.242\n",
       "3          E   1.357  −1.453   1.477   0.113  −0.837\n",
       "4          F  −1.006  −0.590   1.891  −0.397   0.412"
      ]
     },
     "execution_count": 86,
     "metadata": {},
     "output_type": "execute_result"
    }
   ],
   "source": [
    "atchley.head()"
   ]
  },
  {
   "cell_type": "code",
   "execution_count": null,
   "metadata": {
    "collapsed": true
   },
   "outputs": [],
   "source": []
  },
  {
   "cell_type": "code",
   "execution_count": null,
   "metadata": {
    "collapsed": true
   },
   "outputs": [],
   "source": []
  },
  {
   "cell_type": "markdown",
   "metadata": {},
   "source": [
    "## Constanter classifiers"
   ]
  },
  {
   "cell_type": "code",
   "execution_count": 80,
   "metadata": {
    "scrolled": true
   },
   "outputs": [
    {
     "ename": "NameError",
     "evalue": "name 't4_f' is not defined",
     "output_type": "error",
     "traceback": [
      "\u001b[0;31m---------------------------------------------------------------------------\u001b[0m",
      "\u001b[0;31mNameError\u001b[0m                                 Traceback (most recent call last)",
      "\u001b[0;32m<ipython-input-80-fc6c9fbcf2a2>\u001b[0m in \u001b[0;36m<module>\u001b[0;34m()\u001b[0m\n\u001b[0;32m----> 1\u001b[0;31m \u001b[0mplt\u001b[0m\u001b[0;34m.\u001b[0m\u001b[0mhist\u001b[0m\u001b[0;34m(\u001b[0m\u001b[0;34m[\u001b[0m\u001b[0mlen\u001b[0m\u001b[0;34m(\u001b[0m\u001b[0mx\u001b[0m\u001b[0;34m)\u001b[0m \u001b[0;32mfor\u001b[0m \u001b[0mx\u001b[0m  \u001b[0;32min\u001b[0m \u001b[0mt4_f\u001b[0m\u001b[0;34m]\u001b[0m\u001b[0;34m)\u001b[0m\u001b[0;34m\u001b[0m\u001b[0m\n\u001b[0m\u001b[1;32m      2\u001b[0m \u001b[0mplt\u001b[0m\u001b[0;34m.\u001b[0m\u001b[0mhist\u001b[0m\u001b[0;34m(\u001b[0m\u001b[0;34m[\u001b[0m\u001b[0mlen\u001b[0m\u001b[0;34m(\u001b[0m\u001b[0mx\u001b[0m\u001b[0;34m)\u001b[0m \u001b[0;32mfor\u001b[0m \u001b[0mx\u001b[0m  \u001b[0;32min\u001b[0m \u001b[0mt8_f\u001b[0m\u001b[0;34m]\u001b[0m\u001b[0;34m)\u001b[0m\u001b[0;34m\u001b[0m\u001b[0m\n\u001b[1;32m      3\u001b[0m \u001b[0mplt\u001b[0m\u001b[0;34m.\u001b[0m\u001b[0mshow\u001b[0m\u001b[0;34m(\u001b[0m\u001b[0;34m)\u001b[0m\u001b[0;34m\u001b[0m\u001b[0m\n",
      "\u001b[0;31mNameError\u001b[0m: name 't4_f' is not defined"
     ]
    }
   ],
   "source": [
    "plt.hist([len(x) for x  in t4_f])\n",
    "plt.hist([len(x) for x  in t8_f])\n",
    "plt.show()"
   ]
  },
  {
   "cell_type": "code",
   "execution_count": 77,
   "metadata": {
    "collapsed": true
   },
   "outputs": [],
   "source": [
    "L = 8\n",
    "fixed_len4 = [process_seq(x, L) for x  in t4_f]\n",
    "fixed_len8 = [process_seq(x, L) for x  in t8_f]"
   ]
  },
  {
   "cell_type": "code",
   "execution_count": null,
   "metadata": {
    "collapsed": true
   },
   "outputs": [],
   "source": [
    "fix"
   ]
  },
  {
   "cell_type": "code",
   "execution_count": 60,
   "metadata": {
    "collapsed": true
   },
   "outputs": [],
   "source": [
    "def process_fixed_len(seq, d):\n",
    "    ans = np.zeros(len(d) * len(seq))\n",
    "    for i, letter in enumerate(seq):\n",
    "        if letter in d:\n",
    "            ans[i * len(d) + d[letter]] = 1\n",
    "    return ans"
   ]
  },
  {
   "cell_type": "code",
   "execution_count": 78,
   "metadata": {
    "collapsed": true
   },
   "outputs": [],
   "source": [
    "one_hot_4 = np.concatenate([process_fixed_len(x, d1).reshape(1,-1) for x in fixed_len4[:]])\n",
    "one_hot_8 = np.concatenate([process_fixed_len(x, d1).reshape(1,-1) for x in fixed_len8[:]])"
   ]
  },
  {
   "cell_type": "code",
   "execution_count": 79,
   "metadata": {
    "scrolled": true
   },
   "outputs": [
    {
     "data": {
      "text/plain": [
       "(426968, 160)"
      ]
     },
     "execution_count": 79,
     "metadata": {},
     "output_type": "execute_result"
    }
   ],
   "source": [
    "one_hot_4.shape"
   ]
  },
  {
   "cell_type": "code",
   "execution_count": 70,
   "metadata": {
    "collapsed": true
   },
   "outputs": [],
   "source": [
    "y = one_hot_4.shape[0] * [0] + one_hot_8.shape[0] * [1]\n",
    "one_hot_X = np.vstack((one_hot_4, one_hot_8))"
   ]
  },
  {
   "cell_type": "code",
   "execution_count": 71,
   "metadata": {
    "collapsed": true
   },
   "outputs": [],
   "source": [
    "np.save(\"./LY_one_hot_15\", one_hot_X)\n",
    "np.save(\"./LY_one_hot_15_y\", np.array(y))"
   ]
  },
  {
   "cell_type": "code",
   "execution_count": null,
   "metadata": {
    "collapsed": true
   },
   "outputs": [],
   "source": []
  },
  {
   "cell_type": "code",
   "execution_count": 146,
   "metadata": {
    "collapsed": true
   },
   "outputs": [],
   "source": [
    "from sklearn.model_selection import train_test_split\n",
    "from sklearn.metrics import accuracy_score\n",
    "from sklearn.linear_model import LogisticRegression\n",
    "from sklearn.svm import SVC"
   ]
  },
  {
   "cell_type": "code",
   "execution_count": 8,
   "metadata": {
    "collapsed": true
   },
   "outputs": [],
   "source": [
    "one_hot_X = np.load(\"./LY_one_hot_15.npy\")\n",
    "y = np.load(\"./LY_one_hot_15_y.npy\")"
   ]
  },
  {
   "cell_type": "code",
   "execution_count": 147,
   "metadata": {
    "collapsed": true
   },
   "outputs": [],
   "source": [
    "train_X, test_X, train_y,  test_y = train_test_split(x_14_atch, y_14_atch)\n",
    "    "
   ]
  },
  {
   "cell_type": "code",
   "execution_count": null,
   "metadata": {
    "collapsed": true
   },
   "outputs": [],
   "source": []
  },
  {
   "cell_type": "code",
   "execution_count": 81,
   "metadata": {},
   "outputs": [
    {
     "name": "stdout",
     "output_type": "stream",
     "text": [
      "[LibLinear]"
     ]
    },
    {
     "data": {
      "text/plain": [
       "LogisticRegression(C=1.0, class_weight=None, dual=False, fit_intercept=True,\n",
       "          intercept_scaling=1, max_iter=100, multi_class='ovr', n_jobs=1,\n",
       "          penalty='l2', random_state=None, solver='liblinear', tol=0.0001,\n",
       "          verbose=1, warm_start=False)"
      ]
     },
     "execution_count": 81,
     "metadata": {},
     "output_type": "execute_result"
    }
   ],
   "source": [
    "lr = LogisticRegression(verbose= 1)\n",
    "lr.fit(train_X, train_y)"
   ]
  },
  {
   "cell_type": "code",
   "execution_count": 82,
   "metadata": {},
   "outputs": [
    {
     "data": {
      "text/plain": [
       "0.69119091802205"
      ]
     },
     "execution_count": 82,
     "metadata": {},
     "output_type": "execute_result"
    }
   ],
   "source": [
    "accuracy_score(test_y, lr.predict(test_X))"
   ]
  },
  {
   "cell_type": "code",
   "execution_count": 159,
   "metadata": {},
   "outputs": [
    {
     "data": {
      "text/plain": [
       "SVC(C=1.0, cache_size=200, class_weight='balanced', coef0=0.0,\n",
       "  decision_function_shape='ovr', degree=3, gamma='auto', kernel='rbf',\n",
       "  max_iter=-1, probability=True, random_state=None, shrinking=True,\n",
       "  tol=0.001, verbose=False)"
      ]
     },
     "execution_count": 159,
     "metadata": {},
     "output_type": "execute_result"
    }
   ],
   "source": [
    "svm = SVC(class_weight='balanced', probability=True)\n",
    "svm.fit(train_X, train_y)"
   ]
  },
  {
   "cell_type": "code",
   "execution_count": 162,
   "metadata": {},
   "outputs": [
    {
     "data": {
      "text/plain": [
       "<bound method BaseSVC.decision_function of SVC(C=1.0, cache_size=200, class_weight='balanced', coef0=0.0,\n",
       "  decision_function_shape='ovr', degree=3, gamma='auto', kernel='rbf',\n",
       "  max_iter=-1, probability=True, random_state=None, shrinking=True,\n",
       "  tol=0.001, verbose=False)>"
      ]
     },
     "execution_count": 162,
     "metadata": {},
     "output_type": "execute_result"
    }
   ],
   "source": [
    "svm."
   ]
  },
  {
   "cell_type": "code",
   "execution_count": 164,
   "metadata": {
    "collapsed": true
   },
   "outputs": [],
   "source": [
    "pred_y = svm.predict_proba(test_X)"
   ]
  },
  {
   "cell_type": "code",
   "execution_count": 161,
   "metadata": {
    "scrolled": false
   },
   "outputs": [
    {
     "data": {
      "text/plain": [
       "0.6008954920118043"
      ]
     },
     "execution_count": 161,
     "metadata": {},
     "output_type": "execute_result"
    }
   ],
   "source": [
    "accuracy_score(test_y, pred_y)"
   ]
  },
  {
   "cell_type": "code",
   "execution_count": 155,
   "metadata": {},
   "outputs": [
    {
     "data": {
      "text/plain": [
       "False"
      ]
     },
     "execution_count": 155,
     "metadata": {},
     "output_type": "execute_result"
    }
   ],
   "source": [
    "mask"
   ]
  },
  {
   "cell_type": "code",
   "execution_count": 157,
   "metadata": {},
   "outputs": [
    {
     "data": {
      "text/plain": [
       "0.11648612553791364"
      ]
     },
     "execution_count": 157,
     "metadata": {},
     "output_type": "execute_result"
    }
   ],
   "source": [
    "mask = np.array(test_y) == 1\n",
    "accuracy_score(np.array(test_y)[mask], pred_y[mask])"
   ]
  },
  {
   "cell_type": "code",
   "execution_count": 158,
   "metadata": {},
   "outputs": [
    {
     "data": {
      "text/plain": [
       "0.9578010065814944"
      ]
     },
     "execution_count": 158,
     "metadata": {},
     "output_type": "execute_result"
    }
   ],
   "source": [
    "mask = np.array(test_y) == 0\n",
    "accuracy_score(np.array(test_y)[mask], pred_y[mask])"
   ]
  },
  {
   "cell_type": "markdown",
   "metadata": {},
   "source": [
    "## EMB on chosen len"
   ]
  },
  {
   "cell_type": "code",
   "execution_count": 123,
   "metadata": {
    "collapsed": true
   },
   "outputs": [],
   "source": [
    "def bad_float_processor(x):\n",
    "    if x[0] == '−' : return float('-' + x[1:])\n",
    "    else: return float(x)"
   ]
  },
  {
   "cell_type": "code",
   "execution_count": 126,
   "metadata": {
    "collapsed": true
   },
   "outputs": [],
   "source": [
    "atchley_dict = dict(zip(atchley[\"amino.acid\"].values, [[bad_float_processor(x) for x in y] for y in atchley[atchley.columns[1:]].values]))"
   ]
  },
  {
   "cell_type": "code",
   "execution_count": 127,
   "metadata": {},
   "outputs": [
    {
     "data": {
      "text/plain": [
       "[-0.591, -1.302, -0.733, 1.57, -0.146]"
      ]
     },
     "execution_count": 127,
     "metadata": {},
     "output_type": "execute_result"
    }
   ],
   "source": [
    "atchley_dict[\"A\"]"
   ]
  },
  {
   "cell_type": "code",
   "execution_count": 130,
   "metadata": {
    "collapsed": true
   },
   "outputs": [],
   "source": [
    "def to_emb(seq, emb_dict):\n",
    "    emb_len = len(emb_dict[\"A\"])\n",
    "    answ = np.zeros(len(seq) * emb_len)\n",
    "    \n",
    "    for i, aa in enumerate(seq):\n",
    "        answ[i * emb_len: (i+1) * emb_len] = emb_dict[aa]\n",
    "    \n",
    "    return answ"
   ]
  },
  {
   "cell_type": "code",
   "execution_count": 131,
   "metadata": {
    "scrolled": true
   },
   "outputs": [
    {
     "data": {
      "text/plain": [
       "array([-1.343,  0.465, -0.862, -1.02 , -0.255, -0.228,  1.399, -4.76 ,\n",
       "        0.67 , -2.647, -0.384,  1.652,  1.33 ,  1.045,  2.064, -0.384,\n",
       "        1.652,  1.33 ,  1.045,  2.064,  1.357, -1.453,  1.477,  0.113,\n",
       "       -0.837, -0.032,  0.326,  2.213,  0.908,  1.313,  1.831, -0.561,\n",
       "        0.533, -0.277,  1.648, -0.384,  1.652,  1.33 ,  1.045,  2.064,\n",
       "       -0.032,  0.326,  2.213,  0.908,  1.313,  0.931, -0.179, -3.005,\n",
       "       -0.503, -1.853,  0.26 ,  0.83 ,  3.097, -0.838,  1.512, -1.006,\n",
       "       -0.59 ,  1.891, -0.397,  0.412])"
      ]
     },
     "execution_count": 131,
     "metadata": {},
     "output_type": "execute_result"
    }
   ],
   "source": [
    "to_emb(t4_f[0], atchley_dict)"
   ]
  },
  {
   "cell_type": "code",
   "execution_count": 138,
   "metadata": {
    "collapsed": true
   },
   "outputs": [],
   "source": [
    "t4_14_atch = [to_emb(x, atchley_dict) for x in t4_f if len(x) == 14]\n",
    "t8_14_atch = [to_emb(x, atchley_dict) for x in t8_f if len(x) == 14]"
   ]
  },
  {
   "cell_type": "code",
   "execution_count": 144,
   "metadata": {
    "collapsed": true
   },
   "outputs": [],
   "source": [
    "y_14_atch = [0] * len(t4_14_atch) + [1] * len(t8_14_atch)\n",
    "x_14_atch = np.array(t4_14_atch + t8_14_atch)"
   ]
  },
  {
   "cell_type": "code",
   "execution_count": null,
   "metadata": {
    "collapsed": true
   },
   "outputs": [],
   "source": []
  },
  {
   "cell_type": "code",
   "execution_count": null,
   "metadata": {
    "collapsed": true
   },
   "outputs": [],
   "source": []
  },
  {
   "cell_type": "markdown",
   "metadata": {
    "collapsed": true
   },
   "source": [
    "## CHECK"
   ]
  },
  {
   "cell_type": "code",
   "execution_count": 160,
   "metadata": {
    "collapsed": true
   },
   "outputs": [],
   "source": [
    "ly_322 = np.load(\"../data/322_LY/LY_RNN.npy\")"
   ]
  },
  {
   "cell_type": "code",
   "execution_count": 161,
   "metadata": {
    "collapsed": true
   },
   "outputs": [],
   "source": [
    "ly = np.load(\"../data/LY_/RNN_data_filtred.npy\")"
   ]
  },
  {
   "cell_type": "code",
   "execution_count": 170,
   "metadata": {},
   "outputs": [
    {
     "data": {
      "text/plain": [
       "array([21,  2,  1, 16, 16, 14, 13,  6,  6,  3, 12,  4,  9, 10,  5,  5, 22,\n",
       "        0,  0,  0,  0,  0,  0,  0,  0,  0], dtype=int8)"
      ]
     },
     "execution_count": 170,
     "metadata": {},
     "output_type": "execute_result"
    }
   ],
   "source": [
    "ly_322[0]"
   ]
  },
  {
   "cell_type": "code",
   "execution_count": 171,
   "metadata": {},
   "outputs": [
    {
     "data": {
      "text/plain": [
       "array([21,  2,  1, 16, 16, 14, 13,  6,  6,  3, 12,  4,  9, 10,  5,  5, 22,\n",
       "        0,  0,  0,  0,  0,  0,  0,  0,  0], dtype=int8)"
      ]
     },
     "execution_count": 171,
     "metadata": {},
     "output_type": "execute_result"
    }
   ],
   "source": [
    "ly[0]"
   ]
  },
  {
   "cell_type": "code",
   "execution_count": null,
   "metadata": {
    "collapsed": true
   },
   "outputs": [],
   "source": []
  }
 ],
 "metadata": {
  "kernelspec": {
   "display_name": "Python 3",
   "language": "python",
   "name": "python3"
  },
  "language_info": {
   "codemirror_mode": {
    "name": "ipython",
    "version": 3
   },
   "file_extension": ".py",
   "mimetype": "text/x-python",
   "name": "python",
   "nbconvert_exporter": "python",
   "pygments_lexer": "ipython3",
   "version": "3.6.3"
  }
 },
 "nbformat": 4,
 "nbformat_minor": 2
}
