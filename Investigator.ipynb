{
 "cells": [
  {
   "cell_type": "code",
   "execution_count": 30,
   "metadata": {
    "collapsed": true,
    "nbpresent": {
     "id": "d147f041-0c03-46bd-a337-5dff8363ac27"
    }
   },
   "outputs": [],
   "source": [
    "import pandas as pd\n",
    "import numpy as np\n",
    "import matplotlib.pyplot as plt"
   ]
  },
  {
   "cell_type": "code",
   "execution_count": 31,
   "metadata": {
    "collapsed": true,
    "nbpresent": {
     "id": "d0822642-aa13-4e59-8b6c-f4f2070620d1"
    }
   },
   "outputs": [],
   "source": [
    "from tqdm import tqdm_notebook\n",
    "import os\n",
    "\n",
    "import data_processor\n",
    "import importlib"
   ]
  },
  {
   "cell_type": "code",
   "execution_count": 32,
   "metadata": {
    "collapsed": true,
    "nbpresent": {
     "id": "f7678c2c-ebbf-4cca-ac27-3e1a934de90c"
    }
   },
   "outputs": [],
   "source": [
    "data_processor = importlib.reload(data_processor)"
   ]
  },
  {
   "cell_type": "code",
   "execution_count": 4,
   "metadata": {
    "collapsed": true,
    "nbpresent": {
     "id": "ba2599e8-8497-4b92-a64c-0ea4026e2e2b"
    }
   },
   "outputs": [],
   "source": [
    "t4_all = pd.read_table(\"../data_all_CDR/DL_4.txt\")"
   ]
  },
  {
   "cell_type": "code",
   "execution_count": 6,
   "metadata": {
    "nbpresent": {
     "id": "b683dd86-02e9-4366-aed7-ff6d2aa4f0e9"
    }
   },
   "outputs": [
    {
     "data": {
      "text/html": [
       "<div>\n",
       "<table border=\"1\" class=\"dataframe\">\n",
       "  <thead>\n",
       "    <tr style=\"text-align: right;\">\n",
       "      <th></th>\n",
       "      <th>count</th>\n",
       "      <th>frequency</th>\n",
       "      <th>CDR3nt</th>\n",
       "      <th>CDR3aa</th>\n",
       "      <th>V</th>\n",
       "      <th>D</th>\n",
       "      <th>J</th>\n",
       "      <th>Vend</th>\n",
       "      <th>Dstart</th>\n",
       "      <th>Dend</th>\n",
       "      <th>Jstart</th>\n",
       "    </tr>\n",
       "  </thead>\n",
       "  <tbody>\n",
       "    <tr>\n",
       "      <th>0</th>\n",
       "      <td>233</td>\n",
       "      <td>0.000789</td>\n",
       "      <td>TGCAGCGGGGGAGAAACCAAGGGGACCCAGTACTTC</td>\n",
       "      <td>CSGGETKGTQYF</td>\n",
       "      <td>TRBV29-1</td>\n",
       "      <td>TRBD2</td>\n",
       "      <td>TRBJ2-5</td>\n",
       "      <td>7</td>\n",
       "      <td>8</td>\n",
       "      <td>13</td>\n",
       "      <td>15</td>\n",
       "    </tr>\n",
       "    <tr>\n",
       "      <th>1</th>\n",
       "      <td>180</td>\n",
       "      <td>0.000609</td>\n",
       "      <td>TGTGCCAGCAGCTTGGGTTTAGCGGCCCGAGCTTTCTTT</td>\n",
       "      <td>CASSLGLAARAFF</td>\n",
       "      <td>TRBV7-2</td>\n",
       "      <td>TRBD2</td>\n",
       "      <td>TRBJ1-1</td>\n",
       "      <td>14</td>\n",
       "      <td>19</td>\n",
       "      <td>25</td>\n",
       "      <td>29</td>\n",
       "    </tr>\n",
       "    <tr>\n",
       "      <th>2</th>\n",
       "      <td>111</td>\n",
       "      <td>0.000376</td>\n",
       "      <td>TGTGCCAGCAGCTTAGTAGGTCTACAGACCTACGAGCAGTACTTC</td>\n",
       "      <td>CASSLVGLQTYEQYF</td>\n",
       "      <td>TRBV7-2</td>\n",
       "      <td>NaN</td>\n",
       "      <td>TRBJ2-7</td>\n",
       "      <td>16</td>\n",
       "      <td>-1</td>\n",
       "      <td>-1</td>\n",
       "      <td>28</td>\n",
       "    </tr>\n",
       "    <tr>\n",
       "      <th>3</th>\n",
       "      <td>81</td>\n",
       "      <td>0.000274</td>\n",
       "      <td>TGCGCCAGCAGCCAAAGGAGTTTCGGCACAGATACGCAGTATTTT</td>\n",
       "      <td>CASSQRSFGTDTQYF</td>\n",
       "      <td>TRBV4-3</td>\n",
       "      <td>NaN</td>\n",
       "      <td>TRBJ2-3</td>\n",
       "      <td>15</td>\n",
       "      <td>-1</td>\n",
       "      <td>-1</td>\n",
       "      <td>25</td>\n",
       "    </tr>\n",
       "    <tr>\n",
       "      <th>4</th>\n",
       "      <td>62</td>\n",
       "      <td>0.000210</td>\n",
       "      <td>TGTGCCTGGAGACCAACCTGGGACAGGGGCCGCACTGAAGCTTTCTTT</td>\n",
       "      <td>CAWRPTWDRGRTEAFF</td>\n",
       "      <td>TRBV30</td>\n",
       "      <td>TRBD1</td>\n",
       "      <td>TRBJ1-1</td>\n",
       "      <td>11</td>\n",
       "      <td>16</td>\n",
       "      <td>32</td>\n",
       "      <td>32</td>\n",
       "    </tr>\n",
       "  </tbody>\n",
       "</table>\n",
       "</div>"
      ],
      "text/plain": [
       "   count  frequency                                            CDR3nt  \\\n",
       "0    233   0.000789              TGCAGCGGGGGAGAAACCAAGGGGACCCAGTACTTC   \n",
       "1    180   0.000609           TGTGCCAGCAGCTTGGGTTTAGCGGCCCGAGCTTTCTTT   \n",
       "2    111   0.000376     TGTGCCAGCAGCTTAGTAGGTCTACAGACCTACGAGCAGTACTTC   \n",
       "3     81   0.000274     TGCGCCAGCAGCCAAAGGAGTTTCGGCACAGATACGCAGTATTTT   \n",
       "4     62   0.000210  TGTGCCTGGAGACCAACCTGGGACAGGGGCCGCACTGAAGCTTTCTTT   \n",
       "\n",
       "             CDR3aa         V      D        J  Vend  Dstart  Dend  Jstart  \n",
       "0      CSGGETKGTQYF  TRBV29-1  TRBD2  TRBJ2-5     7       8    13      15  \n",
       "1     CASSLGLAARAFF   TRBV7-2  TRBD2  TRBJ1-1    14      19    25      29  \n",
       "2   CASSLVGLQTYEQYF   TRBV7-2    NaN  TRBJ2-7    16      -1    -1      28  \n",
       "3   CASSQRSFGTDTQYF   TRBV4-3    NaN  TRBJ2-3    15      -1    -1      25  \n",
       "4  CAWRPTWDRGRTEAFF    TRBV30  TRBD1  TRBJ1-1    11      16    32      32  "
      ]
     },
     "execution_count": 6,
     "metadata": {},
     "output_type": "execute_result"
    }
   ],
   "source": [
    "t4_all.head()"
   ]
  },
  {
   "cell_type": "code",
   "execution_count": 33,
   "metadata": {
    "collapsed": true,
    "nbpresent": {
     "id": "6bce7e49-2f5a-4f21-a3a4-745ee7766da4"
    }
   },
   "outputs": [],
   "source": [
    "t4 = pd.read_table(\"../data_all_CDR/DL_4.txt\", usecols=[\"count\", \"CDR3aa\"])\n",
    "t8 = pd.read_table(\"../data_all_CDR/DL_8.txt\", usecols=[\"count\", \"CDR3aa\"])"
   ]
  },
  {
   "cell_type": "code",
   "execution_count": 34,
   "metadata": {
    "nbpresent": {
     "id": "274be135-22fd-406b-80fe-36379ef9a720"
    }
   },
   "outputs": [
    {
     "data": {
      "text/html": [
       "<div>\n",
       "<table border=\"1\" class=\"dataframe\">\n",
       "  <thead>\n",
       "    <tr style=\"text-align: right;\">\n",
       "      <th></th>\n",
       "      <th>count</th>\n",
       "      <th>CDR3aa</th>\n",
       "    </tr>\n",
       "  </thead>\n",
       "  <tbody>\n",
       "    <tr>\n",
       "      <th>0</th>\n",
       "      <td>12940</td>\n",
       "      <td>CASSLFRTSYWDEQFF</td>\n",
       "    </tr>\n",
       "    <tr>\n",
       "      <th>1</th>\n",
       "      <td>1675</td>\n",
       "      <td>CASSLGYEQYF</td>\n",
       "    </tr>\n",
       "    <tr>\n",
       "      <th>2</th>\n",
       "      <td>1391</td>\n",
       "      <td>CASSLFRTSYWDEQFF</td>\n",
       "    </tr>\n",
       "    <tr>\n",
       "      <th>3</th>\n",
       "      <td>1291</td>\n",
       "      <td>CAWSVAGDGTDTQYF</td>\n",
       "    </tr>\n",
       "    <tr>\n",
       "      <th>4</th>\n",
       "      <td>929</td>\n",
       "      <td>CASSDLQGLAFEAFF</td>\n",
       "    </tr>\n",
       "  </tbody>\n",
       "</table>\n",
       "</div>"
      ],
      "text/plain": [
       "   count            CDR3aa\n",
       "0  12940  CASSLFRTSYWDEQFF\n",
       "1   1675       CASSLGYEQYF\n",
       "2   1391  CASSLFRTSYWDEQFF\n",
       "3   1291   CAWSVAGDGTDTQYF\n",
       "4    929   CASSDLQGLAFEAFF"
      ]
     },
     "execution_count": 34,
     "metadata": {},
     "output_type": "execute_result"
    }
   ],
   "source": [
    "t4.head()\n",
    "t8.head()"
   ]
  },
  {
   "cell_type": "code",
   "execution_count": 35,
   "metadata": {
    "nbpresent": {
     "id": "18f831c3-d7b5-4f4a-99c3-482837ec9f60"
    }
   },
   "outputs": [
    {
     "data": {
      "text/plain": [
       "(239344, 2)"
      ]
     },
     "execution_count": 35,
     "metadata": {},
     "output_type": "execute_result"
    }
   ],
   "source": [
    "t4.shape"
   ]
  },
  {
   "cell_type": "code",
   "execution_count": 37,
   "metadata": {
    "collapsed": true,
    "nbpresent": {
     "id": "1d27ef29-9738-481e-8345-c7cd35462d50"
    }
   },
   "outputs": [],
   "source": [
    "def to_seq_arrays(table_4, table_8, target_column):\n",
    "    intersection = (set(table_4[target_column].values).intersection(table_8[target_column].values))\n",
    "    \n",
    "    table_4_filtred = [x for x in table_4[target_column].values if not x in intersection]\n",
    "    table_8_filtred = [x for x in table_8[target_column].values if not x in intersection]\n",
    "    \n",
    "    table_4_intersection = np.concatenate([x.reshape(1, -1) for x in table_4.values if x[1] in intersection])\n",
    "    table_8_intersection = np.concatenate([x.reshape(1, -1) for x in table_8.values if x[1] in intersection])\n",
    "\n",
    "\n",
    "    print(table_4_intersection.shape)\n",
    "    for el in tqdm_notebook(intersection):\n",
    "        #print(table_4_intersection[:,2])\n",
    "        #print(np.where(table_4_intersection[:,2] == el))\n",
    "        #print(table_4_intersection[np.where(table_4_intersection[:,2] == el)[0]])\n",
    "        i4 = np.array(np.where(table_4_intersection[:,1] == el)[0])\n",
    "        i8 = np.array(np.where(table_8_intersection[:,1] == el)[0])\n",
    "\n",
    "        if table_4_intersection[i4,0].sum() > table_8_intersection[i8,0].sum():\n",
    "            table_4_filtred.append(el)\n",
    "        else:\n",
    "            table_8_filtred.append(el)\n",
    "            \n",
    "    return table_4_filtred, table_8_filtred"
   ]
  },
  {
   "cell_type": "code",
   "execution_count": 38,
   "metadata": {
    "nbpresent": {
     "id": "5e505241-65c7-4c4e-8ed9-0697f1780e6e"
    }
   },
   "outputs": [
    {
     "name": "stdout",
     "output_type": "stream",
     "text": [
      "(12333, 2)\n"
     ]
    },
    {
     "data": {
      "application/vnd.jupyter.widget-view+json": {
       "model_id": "6c6284489de34fbca1898d5a779bf5ba",
       "version_major": 2,
       "version_minor": 0
      },
      "text/plain": [
       "A Jupyter Widget"
      ]
     },
     "metadata": {},
     "output_type": "display_data"
    },
    {
     "name": "stdout",
     "output_type": "stream",
     "text": [
      "\n"
     ]
    }
   ],
   "source": [
    "t4_f, t8_f = to_seq_arrays(t4, t8, \"CDR3aa\")"
   ]
  },
  {
   "cell_type": "code",
   "execution_count": 8,
   "metadata": {
    "nbpresent": {
     "id": "98448b67-9829-4e34-9ab6-ba4c89caced9"
    }
   },
   "outputs": [
    {
     "data": {
      "text/plain": [
       "342111"
      ]
     },
     "execution_count": 8,
     "metadata": {},
     "output_type": "execute_result"
    }
   ],
   "source": [
    "len(t4_f)"
   ]
  },
  {
   "cell_type": "code",
   "execution_count": 9,
   "metadata": {
    "nbpresent": {
     "id": "daca9913-1c5a-4e86-9fd4-f206698b7143"
    }
   },
   "outputs": [
    {
     "data": {
      "text/plain": [
       "set()"
      ]
     },
     "execution_count": 9,
     "metadata": {},
     "output_type": "execute_result"
    }
   ],
   "source": [
    "set(t4_f).intersection(set(t8_f))"
   ]
  },
  {
   "cell_type": "code",
   "execution_count": 12,
   "metadata": {
    "nbpresent": {
     "id": "30c8c3a6-3972-43da-b3ad-c3d96dbaf89f"
    }
   },
   "outputs": [],
   "source": [
    "np.save(\"../data/DL_4_u_CDR3\", np.array(t4_f))\n",
    "np.save(\"../data/DL_8_u_CDR3\", np.array(t8_f))"
   ]
  },
  {
   "cell_type": "code",
   "execution_count": 13,
   "metadata": {
    "collapsed": true,
    "nbpresent": {
     "id": "54056c7c-bb4e-4dee-bc2a-8cc82bbb184c"
    }
   },
   "outputs": [],
   "source": [
    "y_f = np.array([0] * len(t4_f) + [1] * len(t8_f))\n",
    "t_f = t4_f + t8_f"
   ]
  },
  {
   "cell_type": "markdown",
   "metadata": {
    "nbpresent": {
     "id": "0e03b993-696b-4e49-93dc-11ad8c43d606"
    }
   },
   "source": [
    "## Prepare RNN/Transformer dataset"
   ]
  },
  {
   "cell_type": "code",
   "execution_count": 16,
   "metadata": {
    "nbpresent": {
     "id": "42e14183-85a4-4d39-b2b4-36aa64179960"
    }
   },
   "outputs": [],
   "source": [
    "l_to_n = dict(zip(sorted(kidera.index.values), np.arange(1,kidera.index.values.shape[0] + 1)))"
   ]
  },
  {
   "cell_type": "code",
   "execution_count": 17,
   "metadata": {
    "collapsed": true,
    "nbpresent": {
     "id": "9792ee60-9a53-4a86-bac8-783291bf73bb"
    }
   },
   "outputs": [],
   "source": [
    "l_to_n[\"_BOS_\"] = 21\n",
    "l_to_n[\"_EOS_\"] = 22\n",
    "l_to_n[\"_EMP_\"] = 0"
   ]
  },
  {
   "cell_type": "code",
   "execution_count": 18,
   "metadata": {
    "nbpresent": {
     "id": "aa8ea9ef-b173-4527-bfd0-403b8eba0128"
    }
   },
   "outputs": [
    {
     "data": {
      "text/plain": [
       "dict_keys(['M', 'P', '_BOS_', 'K', 'N', 'S', '_EOS_', 'C', 'T', 'D', '_EMP_', 'Y', 'Q', 'G', 'H', 'W', 'F', 'E', 'L', 'I', 'R', 'A', 'V'])"
      ]
     },
     "execution_count": 18,
     "metadata": {},
     "output_type": "execute_result"
    }
   ],
   "source": [
    "l_to_n.keys()"
   ]
  },
  {
   "cell_type": "code",
   "execution_count": 19,
   "metadata": {
    "nbpresent": {
     "id": "cc3891bb-72d8-4e30-866e-4c8265ff2be5"
    }
   },
   "outputs": [
    {
     "data": {
      "text/plain": [
       "{'A': 1,\n",
       " 'C': 2,\n",
       " 'D': 3,\n",
       " 'E': 4,\n",
       " 'F': 5,\n",
       " 'G': 6,\n",
       " 'H': 7,\n",
       " 'I': 8,\n",
       " 'K': 9,\n",
       " 'L': 10,\n",
       " 'M': 11,\n",
       " 'N': 12,\n",
       " 'P': 13,\n",
       " 'Q': 14,\n",
       " 'R': 15,\n",
       " 'S': 16,\n",
       " 'T': 17,\n",
       " 'V': 18,\n",
       " 'W': 19,\n",
       " 'Y': 20,\n",
       " '_BOS_': 21,\n",
       " '_EMP_': 0,\n",
       " '_EOS_': 22}"
      ]
     },
     "execution_count": 19,
     "metadata": {},
     "output_type": "execute_result"
    }
   ],
   "source": [
    "l_to_n"
   ]
  },
  {
   "cell_type": "code",
   "execution_count": 20,
   "metadata": {
    "collapsed": true,
    "nbpresent": {
     "id": "555c802e-f1a7-4bcb-a527-4c075c9279f3"
    }
   },
   "outputs": [],
   "source": [
    "def CDR_to_num_array(seq, dictionary, array_len):\n",
    "    seq_arr = np.zeros(array_len, dtype = np.int8)\n",
    "    \n",
    "    seq_arr[0] = dictionary[\"_BOS_\"]\n",
    "    for i, symbol in enumerate(seq):\n",
    "        seq_arr[i + 1] = dictionary[symbol]\n",
    "    seq_arr[i + 2] = dictionary[\"_EOS_\"]\n",
    "    \n",
    "    return seq_arr"
   ]
  },
  {
   "cell_type": "code",
   "execution_count": 21,
   "metadata": {
    "nbpresent": {
     "id": "ac2adb48-3eca-4c09-b14c-b2afbf63040e"
    }
   },
   "outputs": [
    {
     "data": {
      "text/plain": [
       "26"
      ]
     },
     "execution_count": 21,
     "metadata": {},
     "output_type": "execute_result"
    }
   ],
   "source": [
    "max_len = max([len(x) for x in t_f]) + 2\n",
    "max_len"
   ]
  },
  {
   "cell_type": "code",
   "execution_count": 22,
   "metadata": {
    "nbpresent": {
     "id": "7756a7ee-8673-414e-b4b7-d9f22af36cda"
    }
   },
   "outputs": [
    {
     "data": {
      "application/vnd.jupyter.widget-view+json": {
       "model_id": "cce23eea8d0048ecacb1e27a098ab83b",
       "version_major": 2,
       "version_minor": 0
      },
      "text/plain": [
       "A Jupyter Widget"
      ]
     },
     "metadata": {},
     "output_type": "display_data"
    },
    {
     "name": "stdout",
     "output_type": "stream",
     "text": [
      "\n"
     ]
    }
   ],
   "source": [
    "RNN_data_as_list = [CDR_to_num_array(x, l_to_n, max_len) for x in tqdm_notebook(t_f)]"
   ]
  },
  {
   "cell_type": "code",
   "execution_count": 23,
   "metadata": {
    "collapsed": true,
    "nbpresent": {
     "id": "47858fd0-0e56-4cf0-ad6a-e73c3cd54ca3"
    }
   },
   "outputs": [],
   "source": [
    "RNN_data = np.concatenate([x.reshape(1,-1) for x in RNN_data_as_list])"
   ]
  },
  {
   "cell_type": "code",
   "execution_count": 24,
   "metadata": {
    "collapsed": true,
    "nbpresent": {
     "id": "6c9fcdc3-869e-49e2-bea6-efab1d146844"
    }
   },
   "outputs": [],
   "source": [
    "np.save(\"../data/DL_RNN_data_filtred\", RNN_data)\n",
    "np.save(\"../data/DL_RNN_data_filtred_y\", np.array(y_f))"
   ]
  },
  {
   "cell_type": "code",
   "execution_count": 25,
   "metadata": {
    "nbpresent": {
     "id": "809db9c5-7c50-4e68-b280-1c3795d01dd6"
    }
   },
   "outputs": [
    {
     "data": {
      "text/plain": [
       "358476"
      ]
     },
     "execution_count": 25,
     "metadata": {},
     "output_type": "execute_result"
    }
   ],
   "source": [
    "len(y_f)"
   ]
  },
  {
   "cell_type": "code",
   "execution_count": 27,
   "metadata": {
    "nbpresent": {
     "id": "cadc6777-a742-4804-a2bb-7cf61e721e7d"
    }
   },
   "outputs": [
    {
     "data": {
      "text/plain": [
       "129172"
      ]
     },
     "execution_count": 27,
     "metadata": {},
     "output_type": "execute_result"
    }
   ],
   "source": [
    "y_f.sum()"
   ]
  },
  {
   "cell_type": "code",
   "execution_count": 26,
   "metadata": {
    "nbpresent": {
     "id": "c82f48ec-7fbe-400b-b65d-994e30141bbe"
    }
   },
   "outputs": [
    {
     "data": {
      "text/plain": [
       "(358476, 26)"
      ]
     },
     "execution_count": 26,
     "metadata": {},
     "output_type": "execute_result"
    }
   ],
   "source": [
    "RNN_data.shape"
   ]
  },
  {
   "cell_type": "code",
   "execution_count": 28,
   "metadata": {
    "collapsed": true,
    "nbpresent": {
     "id": "e2574bd6-f286-46e3-ae30-2f476cedca0c"
    }
   },
   "outputs": [],
   "source": [
    "import pickle"
   ]
  },
  {
   "cell_type": "code",
   "execution_count": 29,
   "metadata": {
    "collapsed": true,
    "nbpresent": {
     "id": "af40915f-aa25-4c2d-8750-0b95cc485f60"
    }
   },
   "outputs": [],
   "source": [
    "pickle.dump(l_to_n, open(\"../data/l_to_n\", \"wb\"))"
   ]
  },
  {
   "cell_type": "code",
   "execution_count": 45,
   "metadata": {
    "nbpresent": {
     "id": "214e124e-2052-437e-8a2d-34e9a30efa1c"
    }
   },
   "outputs": [
    {
     "data": {
      "text/plain": [
       "504191"
      ]
     },
     "execution_count": 45,
     "metadata": {},
     "output_type": "execute_result"
    }
   ],
   "source": [
    "len((t_f))"
   ]
  },
  {
   "cell_type": "markdown",
   "metadata": {
    "collapsed": true,
    "nbpresent": {
     "id": "caf2bb25-d388-41ab-8a01-49c581873833"
    }
   },
   "source": [
    "## Try bigrams"
   ]
  },
  {
   "cell_type": "code",
   "execution_count": 12,
   "metadata": {
    "collapsed": true,
    "nbpresent": {
     "id": "645e0965-2732-49c1-831c-7601c62ea39c"
    }
   },
   "outputs": [],
   "source": [
    "from nltk import bigrams, ngrams"
   ]
  },
  {
   "cell_type": "code",
   "execution_count": 17,
   "metadata": {
    "collapsed": true,
    "nbpresent": {
     "id": "392ebb4a-1743-44c3-a401-071bcf22f138"
    }
   },
   "outputs": [],
   "source": [
    "calc_ngrams = lambda y, n : [''.join(x) for x in ngrams(y, n)]"
   ]
  },
  {
   "cell_type": "code",
   "execution_count": 18,
   "metadata": {
    "collapsed": true,
    "nbpresent": {
     "id": "1eba340c-9511-4382-a502-17621c1c9681"
    }
   },
   "outputs": [],
   "source": [
    "def all_ngrams(X, n):\n",
    "    all_ngrams = dict()\n",
    "    for x in tqdm_notebook(X):\n",
    "        for ngramm in calc_ngrams(x,n):\n",
    "            if ngramm in all_ngrams.keys():\n",
    "                all_ngrams[ngramm] += 1\n",
    "            else:\n",
    "                all_ngrams[ngramm] = 1\n",
    "                \n",
    "    return all_ngrams"
   ]
  },
  {
   "cell_type": "code",
   "execution_count": 19,
   "metadata": {
    "nbpresent": {
     "id": "feef474d-f3f7-448a-ab6a-ba5533cc4c1b"
    }
   },
   "outputs": [
    {
     "ename": "SyntaxError",
     "evalue": "invalid syntax (<ipython-input-19-caaa86665359>, line 1)",
     "output_type": "error",
     "traceback": [
      "\u001b[0;36m  File \u001b[0;32m\"<ipython-input-19-caaa86665359>\"\u001b[0;36m, line \u001b[0;32m1\u001b[0m\n\u001b[0;31m    def prepare_ngrams_table()\u001b[0m\n\u001b[0m                              ^\u001b[0m\n\u001b[0;31mSyntaxError\u001b[0m\u001b[0;31m:\u001b[0m invalid syntax\n"
     ]
    }
   ],
   "source": [
    "def prepare_ngrams_table()"
   ]
  },
  {
   "cell_type": "code",
   "execution_count": 32,
   "metadata": {
    "nbpresent": {
     "id": "31004b7e-3ab3-4adf-b4de-f382d5a34f06"
    }
   },
   "outputs": [
    {
     "data": {
      "application/vnd.jupyter.widget-view+json": {
       "model_id": "6b9f5a43ee5f4095992dddb1bd52e3f4",
       "version_major": 2,
       "version_minor": 0
      },
      "text/plain": [
       "A Jupyter Widget"
      ]
     },
     "metadata": {},
     "output_type": "display_data"
    },
    {
     "name": "stdout",
     "output_type": "stream",
     "text": [
      "\n"
     ]
    },
    {
     "data": {
      "application/vnd.jupyter.widget-view+json": {
       "model_id": "88265174e3a34658ad85b38c4d265b0c",
       "version_major": 2,
       "version_minor": 0
      },
      "text/plain": [
       "A Jupyter Widget"
      ]
     },
     "metadata": {},
     "output_type": "display_data"
    },
    {
     "name": "stdout",
     "output_type": "stream",
     "text": [
      "\n"
     ]
    }
   ],
   "source": [
    "s4_3 = all_ngrams(t4[\"aaSeqCDR3\"].values[:], 3)\n",
    "s8_3 = all_ngrams(t8[\"aaSeqCDR3\"].values[:], 3)"
   ]
  },
  {
   "cell_type": "code",
   "execution_count": 66,
   "metadata": {
    "nbpresent": {
     "id": "30c4c8b7-8d08-40d1-9888-28a6c0b4f76e"
    }
   },
   "outputs": [
    {
     "name": "stdout",
     "output_type": "stream",
     "text": [
      "c 164\n"
     ]
    }
   ],
   "source": [
    "counter = 0\n",
    "for trig in s8_3.keys():\n",
    "    if not trig in intersection_3:\n",
    "        counter += s8_3[trig]\n",
    "print(\"c\", counter)"
   ]
  },
  {
   "cell_type": "code",
   "execution_count": 35,
   "metadata": {
    "collapsed": true,
    "nbpresent": {
     "id": "aeb6e2a6-d12e-4e23-a5bc-4755ab5e1c94"
    }
   },
   "outputs": [],
   "source": [
    "intersection_3 = set(s4_3.keys()).intersection(set(s8_3.keys()))"
   ]
  },
  {
   "cell_type": "code",
   "execution_count": 37,
   "metadata": {
    "collapsed": true,
    "nbpresent": {
     "id": "c0fdd071-6421-4588-ba7e-1d003dcb5f18"
    }
   },
   "outputs": [],
   "source": [
    "intersection_with_counts = pd.DataFrame(columns = [4,8], index=sorted(list(intersection_3)))"
   ]
  },
  {
   "cell_type": "code",
   "execution_count": 39,
   "metadata": {
    "nbpresent": {
     "id": "2f97790b-6f77-445f-8ea5-f76700dfdf4a"
    }
   },
   "outputs": [
    {
     "data": {
      "application/vnd.jupyter.widget-view+json": {
       "model_id": "3cf8f4b77989484b867c990dffe42be1",
       "version_major": 2,
       "version_minor": 0
      },
      "text/plain": [
       "A Jupyter Widget"
      ]
     },
     "metadata": {},
     "output_type": "display_data"
    },
    {
     "name": "stdout",
     "output_type": "stream",
     "text": [
      "\n"
     ]
    }
   ],
   "source": [
    "for ngramm in tqdm_notebook(intersection_3):\n",
    "    intersection_with_counts.loc[ngramm, 4] = s4_3[ngramm]\n",
    "    intersection_with_counts.loc[ngramm, 8] = s8_3[ngramm]\n",
    "\n",
    "intersection_with_counts[4] = intersection_with_counts[4] / intersection_with_counts[4].sum()\n",
    "intersection_with_counts[8] = intersection_with_counts[8] / intersection_with_counts[8].sum()"
   ]
  },
  {
   "cell_type": "code",
   "execution_count": 71,
   "metadata": {
    "collapsed": true,
    "nbpresent": {
     "id": "7e58ba6b-0ded-450b-9ef3-ce6d690029ea"
    }
   },
   "outputs": [],
   "source": [
    "intersection_with_counts[4] = intersection_with_counts[4] / intersection_with_counts[4].sum()\n",
    "intersection_with_counts[8] = intersection_with_counts[8] / intersection_with_counts[8].sum()"
   ]
  },
  {
   "cell_type": "code",
   "execution_count": 73,
   "metadata": {
    "collapsed": true,
    "nbpresent": {
     "id": "d03c2f85-a673-4ffa-959f-a960495fbc5a"
    }
   },
   "outputs": [],
   "source": [
    "def plot_bar_part(table, start, end):\n",
    "    plt.bar(np.arange(end-start), intersection_with_counts[start:end][4], alpha = 0.5)\n",
    "    plt.bar(np.arange(end-start), intersection_with_counts[start:end][8],  alpha = 0.5)\n",
    "    plt.show()"
   ]
  },
  {
   "cell_type": "code",
   "execution_count": 75,
   "metadata": {
    "nbpresent": {
     "id": "1caba405-e2fa-4f7b-a05d-46ff8cb53314"
    }
   },
   "outputs": [
    {
     "data": {
      "image/png": "[encoded data removed]",
      "text/plain": [
       "<matplotlib.figure.Figure at 0x7fbf02918a90>"
      ]
     },
     "metadata": {},
     "output_type": "display_data"
    }
   ],
   "source": [
    "plot_bar_part(intersection_with_counts, 0, 50)"
   ]
  },
  {
   "cell_type": "code",
   "execution_count": 49,
   "metadata": {
    "nbpresent": {
     "id": "b05530d9-f4ce-4e36-a231-85e187ac1775"
    }
   },
   "outputs": [
    {
     "data": {
      "image/png": "[encoded data removed]",
      "text/plain": [
       "<matplotlib.figure.Figure at 0x7fbf02e327b8>"
      ]
     },
     "metadata": {},
     "output_type": "display_data"
    }
   ],
   "source": [
    "plt.bar(np.arange(20), intersection_with_counts[:20][4] / sum(intersection_with_counts[:20][4]), alpha = 0.5)\n",
    "plt.bar(np.arange(20), intersection_with_counts[:20][8] / sum(intersection_with_counts[:20][8]),  alpha = 0.5)\n",
    "plt.show()"
   ]
  },
  {
   "cell_type": "code",
   "execution_count": 20,
   "metadata": {
    "nbpresent": {
     "id": "846115bb-6da7-4b9d-8524-37459272104b"
    }
   },
   "outputs": [
    {
     "data": {
      "application/vnd.jupyter.widget-view+json": {
       "model_id": "0b090f31bc024c4d86243e4a53a3dfa8",
       "version_major": 2,
       "version_minor": 0
      },
      "text/plain": [
       "A Jupyter Widget"
      ]
     },
     "metadata": {},
     "output_type": "display_data"
    },
    {
     "name": "stdout",
     "output_type": "stream",
     "text": [
      "\n"
     ]
    },
    {
     "data": {
      "application/vnd.jupyter.widget-view+json": {
       "model_id": "9637294f8ee843119548e13b804b77e0",
       "version_major": 2,
       "version_minor": 0
      },
      "text/plain": [
       "A Jupyter Widget"
      ]
     },
     "metadata": {},
     "output_type": "display_data"
    },
    {
     "name": "stdout",
     "output_type": "stream",
     "text": [
      "\n"
     ]
    }
   ],
   "source": [
    "s4_1 = all_ngrams(t4[\"CDR3nt\"].values, 1)\n",
    "s8_1 = all_ngrams(t8[\"CDR3nt\"].values, 1)"
   ]
  },
  {
   "cell_type": "code",
   "execution_count": 21,
   "metadata": {
    "collapsed": true,
    "nbpresent": {
     "id": "7a68dfee-98e6-47e0-be09-7dba5abe8f29"
    }
   },
   "outputs": [],
   "source": [
    "s1 = set(s4_1.keys()).union(set(s8_1.keys()))"
   ]
  },
  {
   "cell_type": "code",
   "execution_count": 24,
   "metadata": {
    "nbpresent": {
     "id": "63a77fe4-657b-4b56-8eb1-2b300a45404d"
    }
   },
   "outputs": [
    {
     "data": {
      "text/plain": [
       "0             TGTGCCAGCAGTTACTCGGGACAGGTCAACAATGAGCAGTTCTTC\n",
       "1                TGTGCCATCAGTGGGGACCGGGATGGTAATGAGCAGTTCTTC\n",
       "2             TGTGCCAGCAGTGACCGGGACACTACAAACTATGGCTACACCTTC\n",
       "3                      TGTGCCAGCAGTCTCAAACTATATGGCTACACCTTC\n",
       "4                   TGTGCCAGCAGCTTAATGCGTCAAGAGACCCAGTACTTC\n",
       "5                      TGTGCCAGCAGTTTGGCAGCGGGGGACTACACCTTC\n",
       "6                   TGCAGTGCTTCCGGACACTTGAACACTGAAGCTTTCTTT\n",
       "7                      TGTGCCAGCAGTGAAAAAAGCTACGAGCAGTACTTC\n",
       "8                   TGTGCCATCAGTGAGGGCAGGGCCTACGAGCAGTACTTC\n",
       "9             TGTGCCAGCAGCTTAAGTTTATTGGGCATTTATGGCTACACCTTC\n",
       "10         TGTGCCAGCAGCGACCGCGGGACAGTAATGAACACTGAAGCTTTCTTT\n",
       "11         TGTGCCACCAGTGATTTGACTGGGGGAGTCGAAGAGACCCAGTACTTC\n",
       "12                     TGCAGTGCTCCCTCCCTAGCAGCCGAGCAGTTCTTC\n",
       "13         TGTGCCAGCAGCCCCCATCGGTCCACGGGGGCCGGGGAGCTGTTTTTT\n",
       "14               TGCGCCAGCAGAGCGGAGGGGGAAGGCACTGAAGCTTTCTTT\n",
       "15                  TGTGCCAGCAGCCGGACAGGGAAAAACATTCAGTACTTC\n",
       "16               TGCAGTGCTAGAAAGGCAGGGACAGACAATGAGCAGTTCTTC\n",
       "17            TGCGCCAGCAGCCAAGAGACTAGCGGGAGGGCCGCCGGGTTCTTC\n",
       "18               TGTGCCAGCAGCTTGAGACAGGGACCCTACGAGCAGTACTTC\n",
       "19        TGTGCCAGCAGCCAAGATATGGGACTAGCTGTGGGACCCTCCTACA...\n",
       "20               TGTGCCAGCAGCCGGACCTCAGGGGGCTACGAGCAGTACTTC\n",
       "21                        TGTGCCAGCAGTGAGGAGGGGGGACAGTACTTC\n",
       "22         TGTGCCAGCAGCCAAGGGGCTAGCGGGGGGTTGATTGAGCAGTTCTTC\n",
       "23                  TGCAGTGCTATACAGGGGGGTTGGACTGAAGCTTTCTTT\n",
       "24                     TGCAGCGTTGATCACAGGCACTATGGCTACACCTTC\n",
       "25         TGCGCCAGCAGCTTGAACGACGGGGTATCCAAAAACATTCAGTACTTC\n",
       "26               TGCAGCGTCCGGGACCTCGGGGAAACAGATACGCAGTATTTT\n",
       "27                     TGCAGCGGTGGACTTATGAACACTGAAGCTTTCTTT\n",
       "28         TGCAGCGTCGCCGGGACAGGGGGCCGCGCGGCGACTGAAGCTTTCTTT\n",
       "29            TGTGCCAGCTCACCAGACAGGGGGGGCAATCAGCCCCAGCATTTT\n",
       "                                ...                        \n",
       "344118                                TGCAGTGCTAGAGCTTCCTTC\n",
       "344119                                TGCAGTGCTAGAGACCGGGTT\n",
       "344120                                TGCAGTGCTAAGCAGTTCTTC\n",
       "344121                                TGCAGTGCTAAAGCTTTCTTT\n",
       "344122                                TGCAGTGCCTGGTCCCTCTTT\n",
       "344123                                TGCAGTGCCCAACTGTTTTTT\n",
       "344124                                TGCAGTGGGGGCTACACCTTC\n",
       "344125                                TGCAGCGTTGAGTGGGTCTTC\n",
       "344126                                TGCAGCGTTGAGGGACTCTTC\n",
       "344127                                TGCAGCGTTATTGACACCTTC\n",
       "344128                                TGCAGCGTCCCGCCCTCGGTT\n",
       "344129                                TGCAGCGCTGAAGCTTTCTTT\n",
       "344130                                TGCAGCGGTCCTCCCGCACCG\n",
       "344131                                TGCAGCGGCGGCTACACCTTC\n",
       "344132                                TGCAGGGGGGAGCAGTTCTTC\n",
       "344133                                TGCAGGGGACAGCCGCATTTT\n",
       "344134                                TGGGAGGGACACCTCTACTTC\n",
       "344135                                CCAGGAGATGGCTACACCTTC\n",
       "344136                                   TTTTTGGAGCAGTACTTC\n",
       "344137                                   TTGGACATTCAGTACTTC\n",
       "344138                                   TGTGCCTTCCAGTACTTC\n",
       "344139                                   TGTGCCGAAGCTTTCTTT\n",
       "344140                                   TGTGCCAGCGGGTACTTC\n",
       "344141                                   TGTGCCAGCACCTCCCCG\n",
       "344142                                   TGTGCCAGCAGCTCTACG\n",
       "344143                                   TGTGCCAGCAGCTCCTTC\n",
       "344144                                      TGTGCCCCTTACTTC\n",
       "344145                                      TGTGAGCAGTACTTC\n",
       "344146                                      TGCGCAGGCGCCGTC\n",
       "344147                                      TGCAGTGAGAATTTT\n",
       "Name: CDR3nt, dtype: object"
      ]
     },
     "execution_count": 24,
     "metadata": {},
     "output_type": "execute_result"
    }
   ],
   "source": [
    "t4[\"CDR3nt\"]"
   ]
  },
  {
   "cell_type": "code",
   "execution_count": 22,
   "metadata": {
    "collapsed": true,
    "nbpresent": {
     "id": "fe8ccf36-2dcf-45d4-a7b4-f030e4bf9026"
    }
   },
   "outputs": [],
   "source": [
    "d1 = dict(zip(sorted(list(s1)), range(len(s1))))"
   ]
  },
  {
   "cell_type": "code",
   "execution_count": 23,
   "metadata": {
    "nbpresent": {
     "id": "9289fde2-3c68-432f-99b1-076760b5e43c"
    }
   },
   "outputs": [
    {
     "data": {
      "text/plain": [
       "{'A': 0, 'C': 1, 'G': 2, 'T': 3}"
      ]
     },
     "execution_count": 23,
     "metadata": {},
     "output_type": "execute_result"
    }
   ],
   "source": [
    "d1"
   ]
  },
  {
   "cell_type": "markdown",
   "metadata": {
    "nbpresent": {
     "id": "8cb4dce4-123a-4b34-a3b0-92676d88d7b4"
    }
   },
   "source": [
    "## Emb"
   ]
  },
  {
   "cell_type": "code",
   "execution_count": 39,
   "metadata": {
    "collapsed": true,
    "nbpresent": {
     "id": "65a046fc-2e0f-483a-98a1-7c45eac56ab0"
    }
   },
   "outputs": [],
   "source": [
    "kidera = pd.DataFrame(list(map(lambda x: x.split(\",\"), \"A,-1.56,-1.67,-0.97,-0.27,-0.93,-0.78,-0.2,-0.08,0.21,-0.48;R,0.22,1.27,1.37,1.87,-1.7,0.46,0.92,-0.39,0.23,0.93;N,1.14,-0.07,-0.12,0.81,0.18,0.37,-0.09,1.23,1.1,-1.73;D,0.58,-0.22,-1.58,0.81,-0.92,0.15,-1.52,0.47,0.76,0.7;C,0.12,-0.89,0.45,-1.05,-0.71,2.41,1.52,-0.69,1.13,1.1;Q,-0.47,0.24,0.07,1.1,1.1,0.59,0.84,-0.71,-0.03,-2.33;E,-1.45,0.19,-1.61,1.17,-1.31,0.4,0.04,0.38,-0.35,-0.12;G,1.46,-1.96,-0.23,-0.16,0.1,-0.11,1.32,2.36,-1.66,0.46;H,-0.41,0.52,-0.28,0.28,1.61,1.01,-1.85,0.47,1.13,1.63;I,-0.73,-0.16,1.79,-0.77,-0.54,0.03,-0.83,0.51,0.66,-1.78;L,-1.04,0,-0.24,-1.1,-0.55,-2.05,0.96,-0.76,0.45,0.93;K,-0.34,0.82,-0.23,1.7,1.54,-1.62,1.15,-0.08,-0.48,0.6;M,-1.4,0.18,-0.42,-0.73,2,1.52,0.26,0.11,-1.27,0.27;F,-0.21,0.98,-0.36,-1.43,0.22,-0.81,0.67,1.1,1.71,-0.44;P,2.06,-0.33,-1.15,-0.75,0.88,-0.45,0.3,-2.3,0.74,-0.28;S,0.81,-1.08,0.16,0.42,-0.21,-0.43,-1.89,-1.15,-0.97,-0.23;T,0.26,-0.7,1.21,0.63,-0.1,0.21,0.24,-1.15,-0.56,0.19;W,0.3,2.1,-0.72,-1.57,-1.16,0.57,-0.48,-0.4,-2.3,-0.6;Y,1.38,1.48,0.8,-0.56,0,-0.68,-0.31,1.03,-0.05,0.53;V,-0.74,-0.71,2.04,-0.4,0.5,-0.81,-1.07,0.06,-0.46,0.65\".split(\";\"))), index=[\"A\",\"R\",\"N\",\"D\",\"C\",\"Q\",\"E\",\"G\",\"H\",\"I\",\"L\",\"K\",\"M\",\"F\",\"P\",\"S\",\"T\",\"W\",\"Y\",\"V\"], columns=[\"aminoacid\"] + list(map(lambda x: \"f\"+str(x), range(1,11))))"
   ]
  },
  {
   "cell_type": "code",
   "execution_count": 145,
   "metadata": {
    "collapsed": true,
    "nbpresent": {
     "id": "ee2ed02d-bf88-4295-8d63-e322e80758a9"
    }
   },
   "outputs": [],
   "source": [
    "kidera.to_csv(\"../data/kidera\")"
   ]
  },
  {
   "cell_type": "markdown",
   "metadata": {
    "nbpresent": {
     "id": "2afdbe5b-e25d-4d2e-b80f-606690c7623d"
    }
   },
   "source": [
    "## Constanter classifiers"
   ]
  },
  {
   "cell_type": "code",
   "execution_count": 40,
   "metadata": {
    "nbpresent": {
     "id": "5a2b48a1-c824-47de-bc59-fdec00eba16e"
    },
    "scrolled": true
   },
   "outputs": [
    {
     "data": {
      "image/png": "[encoded data removed]",
      "text/plain": [
       "<matplotlib.figure.Figure at 0x7f2923787eb8>"
      ]
     },
     "metadata": {},
     "output_type": "display_data"
    }
   ],
   "source": [
    "plt.hist([len(x) for x  in t4_f])\n",
    "plt.hist([len(x) for x  in t8_f])\n",
    "plt.show()"
   ]
  },
  {
   "cell_type": "code",
   "execution_count": 41,
   "metadata": {
    "collapsed": true,
    "nbpresent": {
     "id": "0d33cd61-2c40-4cdc-9733-84447426d4be"
    }
   },
   "outputs": [],
   "source": [
    "def process_seq(seq, l):\n",
    "    if len(seq) > l:\n",
    "        return seq[int((len(seq) - l)/ 2) : int((len(seq) + l) / 2)]\n",
    "    else:\n",
    "        seq2 = \"___________\" + seq + \"___________\"\n",
    "        return seq2[int((len(seq2) - l)/ 2) : int((len(seq2) + l) / 2)]"
   ]
  },
  {
   "cell_type": "code",
   "execution_count": 42,
   "metadata": {
    "collapsed": true,
    "nbpresent": {
     "id": "b9328d99-ef15-4ae4-b423-6942a20a22e9"
    }
   },
   "outputs": [],
   "source": [
    "L = 13\n",
    "fixed_len4 = [process_seq(x, L) for x  in t4_f]\n",
    "fixed_len8 = [process_seq(x, L) for x  in t8_f]"
   ]
  },
  {
   "cell_type": "code",
   "execution_count": null,
   "metadata": {
    "collapsed": true,
    "nbpresent": {
     "id": "338470bc-b80b-4d12-bd91-966c759867a6"
    }
   },
   "outputs": [],
   "source": [
    "fix"
   ]
  },
  {
   "cell_type": "code",
   "execution_count": 43,
   "metadata": {
    "collapsed": true,
    "nbpresent": {
     "id": "f2610fe2-bf52-4803-91de-98d84048a3d9"
    }
   },
   "outputs": [],
   "source": [
    "def process_fixed_len(seq, d):\n",
    "    ans = np.zeros(len(d) * len(seq))\n",
    "    for i, letter in enumerate(seq):\n",
    "        if letter in d:\n",
    "            ans[i * len(d) + d[letter]] = 1\n",
    "    return ans"
   ]
  },
  {
   "cell_type": "code",
   "execution_count": 45,
   "metadata": {
    "nbpresent": {
     "id": "0e1309a2-093c-445d-9331-b3dd68d431b8"
    }
   },
   "outputs": [],
   "source": [
    "one_hot_4 = np.concatenate([process_fixed_len(x, l_to_n).reshape(1,-1) for x in fixed_len4[:]])\n",
    "one_hot_8 = np.concatenate([process_fixed_len(x, l_to_n).reshape(1,-1) for x in fixed_len8[:]])"
   ]
  },
  {
   "cell_type": "code",
   "execution_count": 47,
   "metadata": {
    "nbpresent": {
     "id": "079219ae-7cf2-44e7-8e43-183d7888c44c"
    },
    "scrolled": true
   },
   "outputs": [
    {
     "data": {
      "text/plain": [
       "(129172, 299)"
      ]
     },
     "execution_count": 47,
     "metadata": {},
     "output_type": "execute_result"
    }
   ],
   "source": [
    "one_hot_8.shape"
   ]
  },
  {
   "cell_type": "code",
   "execution_count": 49,
   "metadata": {},
   "outputs": [
    {
     "data": {
      "text/plain": [
       "129172"
      ]
     },
     "execution_count": 49,
     "metadata": {},
     "output_type": "execute_result"
    }
   ],
   "source": [
    "len(t8_f)"
   ]
  },
  {
   "cell_type": "code",
   "execution_count": 50,
   "metadata": {
    "collapsed": true,
    "nbpresent": {
     "id": "b452e9f1-0ca3-4be8-9ece-4466982c9e46"
    }
   },
   "outputs": [],
   "source": [
    "#y = one_hot_4.shape[0] * [0] + one_hot_8.shape[0] * [1]\n",
    "one_hot_X = np.vstack((one_hot_4, one_hot_8))"
   ]
  },
  {
   "cell_type": "code",
   "execution_count": 51,
   "metadata": {
    "collapsed": true,
    "nbpresent": {
     "id": "0bf9f31a-4bf6-4c8a-943e-b912ae2a9a90"
    }
   },
   "outputs": [],
   "source": [
    "np.save(\"../data/DL_one_hot_13\", one_hot_X)\n",
    "#np.save(\"./LY_one_hot_15_y\", np.array(y))"
   ]
  },
  {
   "cell_type": "code",
   "execution_count": null,
   "metadata": {
    "collapsed": true
   },
   "outputs": [],
   "source": []
  },
  {
   "cell_type": "markdown",
   "metadata": {},
   "source": [
    "## fixed_len to Kidera"
   ]
  },
  {
   "cell_type": "code",
   "execution_count": 68,
   "metadata": {},
   "outputs": [
    {
     "data": {
      "text/plain": [
       "array(['0.12', '-0.89', '0.45', '-1.05', '-0.71', '2.41', '1.52', '-0.69',\n",
       "       '1.13', '1.1'], dtype=object)"
      ]
     },
     "execution_count": 68,
     "metadata": {},
     "output_type": "execute_result"
    }
   ],
   "source": [
    "kidera_dict[\"C\"]"
   ]
  },
  {
   "cell_type": "code",
   "execution_count": 62,
   "metadata": {
    "nbpresent": {
     "id": "0909b0b8-1d29-47a8-961d-8dd66491081c"
    }
   },
   "outputs": [],
   "source": [
    "kidera_dict = dict(zip(kidera.values[:,0], kidera.values[:, 1:]))\n",
    "kidera_dict[\"_\"] = np.zeros_like(kidera_dict[\"A\"])"
   ]
  },
  {
   "cell_type": "code",
   "execution_count": 63,
   "metadata": {
    "collapsed": true
   },
   "outputs": [],
   "source": [
    "def fixed_len_to_repr(seq, d):\n",
    "    answ = np.zeros((d[\"A\"].shape[0], len(seq)))\n",
    "    \n",
    "    for i, letter in enumerate(seq):\n",
    "        answ[:,i] = d[letter]\n",
    "    return answ"
   ]
  },
  {
   "cell_type": "code",
   "execution_count": 64,
   "metadata": {},
   "outputs": [
    {
     "data": {
      "text/plain": [
       "'_CSGGETKGTQYF'"
      ]
     },
     "execution_count": 64,
     "metadata": {},
     "output_type": "execute_result"
    }
   ],
   "source": [
    "fixed_len4[0]"
   ]
  },
  {
   "cell_type": "code",
   "execution_count": 74,
   "metadata": {},
   "outputs": [
    {
     "data": {
      "text/plain": [
       "array([[ 0.  ,  0.12,  0.81,  1.46,  1.46, -1.45,  0.26, -0.34,  1.46,\n",
       "         0.26, -0.47,  1.38, -0.21],\n",
       "       [ 0.  , -0.89, -1.08, -1.96, -1.96,  0.19, -0.7 ,  0.82, -1.96,\n",
       "        -0.7 ,  0.24,  1.48,  0.98],\n",
       "       [ 0.  ,  0.45,  0.16, -0.23, -0.23, -1.61,  1.21, -0.23, -0.23,\n",
       "         1.21,  0.07,  0.8 , -0.36],\n",
       "       [ 0.  , -1.05,  0.42, -0.16, -0.16,  1.17,  0.63,  1.7 , -0.16,\n",
       "         0.63,  1.1 , -0.56, -1.43],\n",
       "       [ 0.  , -0.71, -0.21,  0.1 ,  0.1 , -1.31, -0.1 ,  1.54,  0.1 ,\n",
       "        -0.1 ,  1.1 ,  0.  ,  0.22],\n",
       "       [ 0.  ,  2.41, -0.43, -0.11, -0.11,  0.4 ,  0.21, -1.62, -0.11,\n",
       "         0.21,  0.59, -0.68, -0.81],\n",
       "       [ 0.  ,  1.52, -1.89,  1.32,  1.32,  0.04,  0.24,  1.15,  1.32,\n",
       "         0.24,  0.84, -0.31,  0.67],\n",
       "       [ 0.  , -0.69, -1.15,  2.36,  2.36,  0.38, -1.15, -0.08,  2.36,\n",
       "        -1.15, -0.71,  1.03,  1.1 ],\n",
       "       [ 0.  ,  1.13, -0.97, -1.66, -1.66, -0.35, -0.56, -0.48, -1.66,\n",
       "        -0.56, -0.03, -0.05,  1.71],\n",
       "       [ 0.  ,  1.1 , -0.23,  0.46,  0.46, -0.12,  0.19,  0.6 ,  0.46,\n",
       "         0.19, -2.33,  0.53, -0.44]])"
      ]
     },
     "execution_count": 74,
     "metadata": {},
     "output_type": "execute_result"
    }
   ],
   "source": [
    "fixed_len_to_repr(fixed_len4[0], kidera_dict)"
   ]
  },
  {
   "cell_type": "code",
   "execution_count": 70,
   "metadata": {
    "collapsed": true
   },
   "outputs": [],
   "source": [
    "kidera_4 = np.concatenate([fixed_len_to_repr(x, kidera_dict).reshape(1,-1) for x in fixed_len4[:]])\n",
    "kidera_8 = np.concatenate([fixed_len_to_repr(x, kidera_dict).reshape(1,-1) for x in fixed_len8[:]])"
   ]
  },
  {
   "cell_type": "code",
   "execution_count": 72,
   "metadata": {
    "collapsed": true
   },
   "outputs": [],
   "source": [
    "kidera_data = np.vstack((kidera_4, kidera_8))"
   ]
  },
  {
   "cell_type": "code",
   "execution_count": 73,
   "metadata": {
    "collapsed": true
   },
   "outputs": [],
   "source": [
    "np.save(\"../data/kidera_13_data\", kidera_data)"
   ]
  },
  {
   "cell_type": "code",
   "execution_count": 72,
   "metadata": {
    "collapsed": true,
    "nbpresent": {
     "id": "36201bbe-24f9-49df-a03b-508f433b4e0a"
    }
   },
   "outputs": [],
   "source": [
    "from sklearn.model_selection import train_test_split\n",
    "from sklearn.metrics import accuracy_score\n",
    "from sklearn.linear_model import LogisticRegression\n",
    "from sklearn.svm import SVC"
   ]
  },
  {
   "cell_type": "code",
   "execution_count": 8,
   "metadata": {
    "collapsed": true,
    "nbpresent": {
     "id": "2b2d3665-1b9e-4d94-afb9-1507ac1ed281"
    }
   },
   "outputs": [],
   "source": [
    "one_hot_X = np.load(\"./LY_one_hot_15.npy\")\n",
    "y = np.load(\"./LY_one_hot_15_y.npy\")"
   ]
  },
  {
   "cell_type": "code",
   "execution_count": 80,
   "metadata": {
    "collapsed": true,
    "nbpresent": {
     "id": "e7f63e48-fddc-40e3-9b76-c6767ffd9e0b"
    }
   },
   "outputs": [],
   "source": [
    "train_X, test_X, train_y,  test_y = train_test_split(one_hot_X, y)\n",
    "    "
   ]
  },
  {
   "cell_type": "code",
   "execution_count": null,
   "metadata": {
    "collapsed": true,
    "nbpresent": {
     "id": "3b2eac19-df44-4440-bff4-f61da84ed306"
    }
   },
   "outputs": [],
   "source": []
  },
  {
   "cell_type": "code",
   "execution_count": 81,
   "metadata": {
    "nbpresent": {
     "id": "73cd012f-ded9-4354-b041-654cd829c895"
    }
   },
   "outputs": [
    {
     "name": "stdout",
     "output_type": "stream",
     "text": [
      "[LibLinear]"
     ]
    },
    {
     "data": {
      "text/plain": [
       "LogisticRegression(C=1.0, class_weight=None, dual=False, fit_intercept=True,\n",
       "          intercept_scaling=1, max_iter=100, multi_class='ovr', n_jobs=1,\n",
       "          penalty='l2', random_state=None, solver='liblinear', tol=0.0001,\n",
       "          verbose=1, warm_start=False)"
      ]
     },
     "execution_count": 81,
     "metadata": {},
     "output_type": "execute_result"
    }
   ],
   "source": [
    "lr = LogisticRegression(verbose= 1)\n",
    "lr.fit(train_X, train_y)"
   ]
  },
  {
   "cell_type": "code",
   "execution_count": 82,
   "metadata": {
    "nbpresent": {
     "id": "ca3638e0-4208-4e61-b937-f07ae5b193c2"
    }
   },
   "outputs": [
    {
     "data": {
      "text/plain": [
       "0.69119091802205"
      ]
     },
     "execution_count": 82,
     "metadata": {},
     "output_type": "execute_result"
    }
   ],
   "source": [
    "accuracy_score(test_y, lr.predict(test_X))"
   ]
  },
  {
   "cell_type": "code",
   "execution_count": null,
   "metadata": {
    "collapsed": true,
    "nbpresent": {
     "id": "96b73b81-3b2f-44f2-bfec-fdf44bfb929d"
    }
   },
   "outputs": [],
   "source": [
    "svm = SVC()\n",
    "svm.fit(train_X, train_y)"
   ]
  },
  {
   "cell_type": "code",
   "execution_count": null,
   "metadata": {
    "collapsed": true,
    "nbpresent": {
     "id": "90ee060c-233e-4d62-9598-5a2cc4061738"
    }
   },
   "outputs": [],
   "source": [
    "accuracy_score(test_y, svm.predict(test_X))"
   ]
  },
  {
   "cell_type": "code",
   "execution_count": null,
   "metadata": {
    "collapsed": true,
    "nbpresent": {
     "id": "75a3cc3a-b3aa-4a81-84f9-03bbb9d3bfdf"
    }
   },
   "outputs": [],
   "source": []
  },
  {
   "cell_type": "markdown",
   "metadata": {
    "collapsed": true,
    "nbpresent": {
     "id": "2ad7c311-0e6e-4c56-ae8f-9b40f3061cda"
    }
   },
   "source": [
    "## CHECK"
   ]
  },
  {
   "cell_type": "code",
   "execution_count": 160,
   "metadata": {
    "collapsed": true,
    "nbpresent": {
     "id": "51a1409d-0eb2-4f47-bc55-948a63449c0e"
    }
   },
   "outputs": [],
   "source": [
    "ly_322 = np.load(\"../data/322_LY/LY_RNN.npy\")"
   ]
  },
  {
   "cell_type": "code",
   "execution_count": 161,
   "metadata": {
    "collapsed": true,
    "nbpresent": {
     "id": "f9d12d50-7c23-4a5d-9334-a031fae5be5b"
    }
   },
   "outputs": [],
   "source": [
    "ly = np.load(\"../data/LY_/RNN_data_filtred.npy\")"
   ]
  },
  {
   "cell_type": "code",
   "execution_count": 170,
   "metadata": {
    "nbpresent": {
     "id": "aebd437e-1efa-45cf-b7e4-ac164e9f927a"
    }
   },
   "outputs": [
    {
     "data": {
      "text/plain": [
       "array([21,  2,  1, 16, 16, 14, 13,  6,  6,  3, 12,  4,  9, 10,  5,  5, 22,\n",
       "        0,  0,  0,  0,  0,  0,  0,  0,  0], dtype=int8)"
      ]
     },
     "execution_count": 170,
     "metadata": {},
     "output_type": "execute_result"
    }
   ],
   "source": [
    "ly_322[0]"
   ]
  },
  {
   "cell_type": "code",
   "execution_count": 171,
   "metadata": {
    "nbpresent": {
     "id": "8d83e3e4-0afb-4815-a8f3-ef4bdd0af45e"
    }
   },
   "outputs": [
    {
     "data": {
      "text/plain": [
       "array([21,  2,  1, 16, 16, 14, 13,  6,  6,  3, 12,  4,  9, 10,  5,  5, 22,\n",
       "        0,  0,  0,  0,  0,  0,  0,  0,  0], dtype=int8)"
      ]
     },
     "execution_count": 171,
     "metadata": {},
     "output_type": "execute_result"
    }
   ],
   "source": [
    "ly[0]"
   ]
  },
  {
   "cell_type": "code",
   "execution_count": null,
   "metadata": {
    "collapsed": true,
    "nbpresent": {
     "id": "1a474528-a75c-442a-8df0-bd77d11d7f88"
    }
   },
   "outputs": [],
   "source": []
  }
 ],
 "metadata": {
  "kernelspec": {
   "display_name": "Python [default]",
   "language": "python",
   "name": "python3"
  },
  "language_info": {
   "codemirror_mode": {
    "name": "ipython",
    "version": 3
   },
   "file_extension": ".py",
   "mimetype": "text/x-python",
   "name": "python",
   "nbconvert_exporter": "python",
   "pygments_lexer": "ipython3",
   "version": "3.5.2"
  }
 },
 "nbformat": 4,
 "nbformat_minor": 2
}
